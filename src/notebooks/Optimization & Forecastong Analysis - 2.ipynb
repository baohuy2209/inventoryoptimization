{
 "cells": [
  {
   "cell_type": "markdown",
   "metadata": {},
   "source": [
    "### Data Preprocessing"
   ]
  },
  {
   "cell_type": "code",
   "execution_count": 1,
   "metadata": {},
   "outputs": [],
   "source": [
    "# Importing required libraries\n",
    "import pandas as pd\n",
    "import numpy as np\n",
    "import pickle\n",
    "import matplotlib.pyplot as plt\n",
    "from matplotlib import pyplot\n",
    "import mysql.connector\n",
    "import csv\n",
    "import seaborn as sns\n",
    "import scipy.stats as stats\n",
    "import pylab\n",
    "from sklearn.metrics import mean_squared_error\n",
    "import statsmodels.graphics.tsaplots as tsa_plots\n",
    "from math import sqrt"
   ]
  },
  {
   "cell_type": "markdown",
   "metadata": {},
   "source": [
    "#### Import Dataset"
   ]
  },
  {
   "cell_type": "code",
   "execution_count": 2,
   "metadata": {},
   "outputs": [],
   "source": [
    "# Importing dataset\n",
    "pharma_data=pd.read_csv('Medical Inventory Optimization Dataset - Cleaned.csv')"
   ]
  },
  {
   "cell_type": "code",
   "execution_count": null,
   "metadata": {},
   "outputs": [
    {
     "data": {
      "text/html": [
       "<div>\n",
       "<style scoped>\n",
       "    .dataframe tbody tr th:only-of-type {\n",
       "        vertical-align: middle;\n",
       "    }\n",
       "\n",
       "    .dataframe tbody tr th {\n",
       "        vertical-align: top;\n",
       "    }\n",
       "\n",
       "    .dataframe thead th {\n",
       "        text-align: right;\n",
       "    }\n",
       "</style>\n",
       "<table border=\"1\" class=\"dataframe\">\n",
       "  <thead>\n",
       "    <tr style=\"text-align: right;\">\n",
       "      <th></th>\n",
       "      <th>Typeofsales</th>\n",
       "      <th>Patient_ID</th>\n",
       "      <th>Specialisation</th>\n",
       "      <th>Dept</th>\n",
       "      <th>Dateofbill</th>\n",
       "      <th>Quantity</th>\n",
       "      <th>ReturnQuantity</th>\n",
       "      <th>Final_Cost</th>\n",
       "      <th>Final_Sales</th>\n",
       "      <th>RtnMRP</th>\n",
       "      <th>Formulation</th>\n",
       "      <th>DrugName</th>\n",
       "      <th>SubCat</th>\n",
       "      <th>SubCat1</th>\n",
       "    </tr>\n",
       "  </thead>\n",
       "  <tbody>\n",
       "    <tr>\n",
       "      <th>0</th>\n",
       "      <td>Sale</td>\n",
       "      <td>12018098765</td>\n",
       "      <td>Specialisation6</td>\n",
       "      <td>Department1</td>\n",
       "      <td>01-06-2022</td>\n",
       "      <td>1</td>\n",
       "      <td>0</td>\n",
       "      <td>55.406</td>\n",
       "      <td>59.260</td>\n",
       "      <td>0.000</td>\n",
       "      <td>Form1</td>\n",
       "      <td>ZINC ACETATE 20MG/5ML SYP</td>\n",
       "      <td>SYRUP &amp; SUSPENSION</td>\n",
       "      <td>VITAMINS &amp; MINERALS</td>\n",
       "    </tr>\n",
       "    <tr>\n",
       "      <th>1</th>\n",
       "      <td>Sale</td>\n",
       "      <td>12018103897</td>\n",
       "      <td>Specialisation7</td>\n",
       "      <td>Department1</td>\n",
       "      <td>7-23-2022</td>\n",
       "      <td>1</td>\n",
       "      <td>0</td>\n",
       "      <td>768.638</td>\n",
       "      <td>950.800</td>\n",
       "      <td>0.000</td>\n",
       "      <td>Form1</td>\n",
       "      <td>CEFTAZIDIME 2GM+AVIBACTAM 500MG</td>\n",
       "      <td>INJECTIONS</td>\n",
       "      <td>ANTI-INFECTIVES</td>\n",
       "    </tr>\n",
       "    <tr>\n",
       "      <th>2</th>\n",
       "      <td>Sale</td>\n",
       "      <td>12018101123</td>\n",
       "      <td>Specialisation2</td>\n",
       "      <td>Department3</td>\n",
       "      <td>6-23-2022</td>\n",
       "      <td>1</td>\n",
       "      <td>0</td>\n",
       "      <td>774.266</td>\n",
       "      <td>4004.214</td>\n",
       "      <td>0.000</td>\n",
       "      <td>Form2</td>\n",
       "      <td>EPTIFIBATIDE 0.75MG/ML</td>\n",
       "      <td>INJECTIONS</td>\n",
       "      <td>CARDIOVASCULAR &amp; HEMATOPOIETIC SYSTEM</td>\n",
       "    </tr>\n",
       "    <tr>\n",
       "      <th>3</th>\n",
       "      <td>Sale</td>\n",
       "      <td>12018079281</td>\n",
       "      <td>Specialisation40</td>\n",
       "      <td>Department1</td>\n",
       "      <td>3-17-2022</td>\n",
       "      <td>2</td>\n",
       "      <td>0</td>\n",
       "      <td>40.798</td>\n",
       "      <td>81.044</td>\n",
       "      <td>0.000</td>\n",
       "      <td>Form1</td>\n",
       "      <td>WATER FOR INJECTION 10ML SOLUTION</td>\n",
       "      <td>INJECTIONS</td>\n",
       "      <td>INTRAVENOUS &amp; OTHER STERILE SOLUTIONS</td>\n",
       "    </tr>\n",
       "    <tr>\n",
       "      <th>4</th>\n",
       "      <td>Sale</td>\n",
       "      <td>12018117928</td>\n",
       "      <td>Specialisation5</td>\n",
       "      <td>Department1</td>\n",
       "      <td>12-21-2022</td>\n",
       "      <td>1</td>\n",
       "      <td>0</td>\n",
       "      <td>40.434</td>\n",
       "      <td>40.504</td>\n",
       "      <td>0.000</td>\n",
       "      <td>Form1</td>\n",
       "      <td>LORAZEPAM 1MG</td>\n",
       "      <td>TABLETS &amp; CAPSULES</td>\n",
       "      <td>CENTRAL NERVOUS SYSTEM</td>\n",
       "    </tr>\n",
       "    <tr>\n",
       "      <th>5</th>\n",
       "      <td>Return</td>\n",
       "      <td>12018103662</td>\n",
       "      <td>Specialisation2</td>\n",
       "      <td>Department1</td>\n",
       "      <td>7-15-2022</td>\n",
       "      <td>0</td>\n",
       "      <td>8</td>\n",
       "      <td>47.902</td>\n",
       "      <td>0.000</td>\n",
       "      <td>330.288</td>\n",
       "      <td>Form1</td>\n",
       "      <td>SALBUTAMOL 2.5MG</td>\n",
       "      <td>INHALERS &amp; RESPULES</td>\n",
       "      <td>RESPIRATORY SYSTEM</td>\n",
       "    </tr>\n",
       "    <tr>\n",
       "      <th>6</th>\n",
       "      <td>Sale</td>\n",
       "      <td>12018097585</td>\n",
       "      <td>Specialisation2</td>\n",
       "      <td>Department1</td>\n",
       "      <td>5-22-2022</td>\n",
       "      <td>1</td>\n",
       "      <td>0</td>\n",
       "      <td>41.862</td>\n",
       "      <td>42.218</td>\n",
       "      <td>0.000</td>\n",
       "      <td>Form1</td>\n",
       "      <td>FUROSEMIDE 10MG/ML</td>\n",
       "      <td>INJECTIONS</td>\n",
       "      <td>CARDIOVASCULAR &amp; HEMATOPOIETIC SYSTEM</td>\n",
       "    </tr>\n",
       "    <tr>\n",
       "      <th>7</th>\n",
       "      <td>Sale</td>\n",
       "      <td>12018077721</td>\n",
       "      <td>Specialisation4</td>\n",
       "      <td>Department1</td>\n",
       "      <td>12-01-2022</td>\n",
       "      <td>3</td>\n",
       "      <td>0</td>\n",
       "      <td>60.026</td>\n",
       "      <td>142.752</td>\n",
       "      <td>0.000</td>\n",
       "      <td>Form1</td>\n",
       "      <td>SODIUM CHLORIDE IVF 100ML</td>\n",
       "      <td>IV FLUIDS, ELECTROLYTES, TPN</td>\n",
       "      <td>INTRAVENOUS &amp; OTHER STERILE SOLUTIONS</td>\n",
       "    </tr>\n",
       "    <tr>\n",
       "      <th>8</th>\n",
       "      <td>Sale</td>\n",
       "      <td>12018096500</td>\n",
       "      <td>Specialisation4</td>\n",
       "      <td>Department2</td>\n",
       "      <td>8-24-2022</td>\n",
       "      <td>2</td>\n",
       "      <td>0</td>\n",
       "      <td>49.856</td>\n",
       "      <td>94.000</td>\n",
       "      <td>0.000</td>\n",
       "      <td>Form2</td>\n",
       "      <td>SODIUM BICARBONATE 8.5% INJ</td>\n",
       "      <td>INJECTIONS</td>\n",
       "      <td>INTRAVENOUS &amp; OTHER STERILE SOLUTIONS</td>\n",
       "    </tr>\n",
       "    <tr>\n",
       "      <th>9</th>\n",
       "      <td>Sale</td>\n",
       "      <td>12018071649</td>\n",
       "      <td>Specialisation4</td>\n",
       "      <td>Department1</td>\n",
       "      <td>8-31-2022</td>\n",
       "      <td>1</td>\n",
       "      <td>0</td>\n",
       "      <td>258.860</td>\n",
       "      <td>319.800</td>\n",
       "      <td>0.000</td>\n",
       "      <td>Form1</td>\n",
       "      <td>PEPTIDE BASED DIET POWDER</td>\n",
       "      <td>NUTRITIONAL SUPPLEMENTS</td>\n",
       "      <td>NUTRITION</td>\n",
       "    </tr>\n",
       "  </tbody>\n",
       "</table>\n",
       "</div>"
      ],
      "text/plain": [
       "  Typeofsales   Patient_ID    Specialisation         Dept  Dateofbill  \\\n",
       "0        Sale  12018098765   Specialisation6  Department1  01-06-2022   \n",
       "1        Sale  12018103897   Specialisation7  Department1   7-23-2022   \n",
       "2        Sale  12018101123   Specialisation2  Department3   6-23-2022   \n",
       "3        Sale  12018079281  Specialisation40  Department1   3-17-2022   \n",
       "4        Sale  12018117928   Specialisation5  Department1  12-21-2022   \n",
       "5      Return  12018103662   Specialisation2  Department1   7-15-2022   \n",
       "6        Sale  12018097585   Specialisation2  Department1   5-22-2022   \n",
       "7        Sale  12018077721   Specialisation4  Department1  12-01-2022   \n",
       "8        Sale  12018096500   Specialisation4  Department2   8-24-2022   \n",
       "9        Sale  12018071649   Specialisation4  Department1   8-31-2022   \n",
       "\n",
       "   Quantity  ReturnQuantity  Final_Cost  Final_Sales   RtnMRP Formulation  \\\n",
       "0         1               0      55.406       59.260    0.000       Form1   \n",
       "1         1               0     768.638      950.800    0.000       Form1   \n",
       "2         1               0     774.266     4004.214    0.000       Form2   \n",
       "3         2               0      40.798       81.044    0.000       Form1   \n",
       "4         1               0      40.434       40.504    0.000       Form1   \n",
       "5         0               8      47.902        0.000  330.288       Form1   \n",
       "6         1               0      41.862       42.218    0.000       Form1   \n",
       "7         3               0      60.026      142.752    0.000       Form1   \n",
       "8         2               0      49.856       94.000    0.000       Form2   \n",
       "9         1               0     258.860      319.800    0.000       Form1   \n",
       "\n",
       "                            DrugName                        SubCat  \\\n",
       "0          ZINC ACETATE 20MG/5ML SYP            SYRUP & SUSPENSION   \n",
       "1    CEFTAZIDIME 2GM+AVIBACTAM 500MG                    INJECTIONS   \n",
       "2             EPTIFIBATIDE 0.75MG/ML                    INJECTIONS   \n",
       "3  WATER FOR INJECTION 10ML SOLUTION                    INJECTIONS   \n",
       "4                      LORAZEPAM 1MG            TABLETS & CAPSULES   \n",
       "5                   SALBUTAMOL 2.5MG           INHALERS & RESPULES   \n",
       "6                 FUROSEMIDE 10MG/ML                    INJECTIONS   \n",
       "7          SODIUM CHLORIDE IVF 100ML  IV FLUIDS, ELECTROLYTES, TPN   \n",
       "8        SODIUM BICARBONATE 8.5% INJ                    INJECTIONS   \n",
       "9          PEPTIDE BASED DIET POWDER       NUTRITIONAL SUPPLEMENTS   \n",
       "\n",
       "                                 SubCat1  \n",
       "0                    VITAMINS & MINERALS  \n",
       "1                        ANTI-INFECTIVES  \n",
       "2  CARDIOVASCULAR & HEMATOPOIETIC SYSTEM  \n",
       "3  INTRAVENOUS & OTHER STERILE SOLUTIONS  \n",
       "4                 CENTRAL NERVOUS SYSTEM  \n",
       "5                     RESPIRATORY SYSTEM  \n",
       "6  CARDIOVASCULAR & HEMATOPOIETIC SYSTEM  \n",
       "7  INTRAVENOUS & OTHER STERILE SOLUTIONS  \n",
       "8  INTRAVENOUS & OTHER STERILE SOLUTIONS  \n",
       "9                              NUTRITION  "
      ]
     },
     "execution_count": 3,
     "metadata": {},
     "output_type": "execute_result"
    }
   ],
   "source": [
    "# Viewing dataset\n",
    "pharma_data.head(10)"
   ]
  },
  {
   "cell_type": "code",
   "execution_count": 4,
   "metadata": {},
   "outputs": [],
   "source": [
    "# Suppress warnings\n",
    "import warnings\n",
    "warnings.filterwarnings(\"ignore\")"
   ]
  },
  {
   "cell_type": "markdown",
   "metadata": {},
   "source": [
    "#### Dataframe Shape & Data Type"
   ]
  },
  {
   "cell_type": "code",
   "execution_count": 5,
   "metadata": {},
   "outputs": [
    {
     "data": {
      "text/plain": [
       "(14218, 14)"
      ]
     },
     "execution_count": 5,
     "metadata": {},
     "output_type": "execute_result"
    }
   ],
   "source": [
    "# Checking shape of dataset\n",
    "pharma_data.shape"
   ]
  },
  {
   "cell_type": "code",
   "execution_count": 6,
   "metadata": {},
   "outputs": [
    {
     "data": {
      "text/plain": [
       "Typeofsales        object\n",
       "Patient_ID          int64\n",
       "Specialisation     object\n",
       "Dept               object\n",
       "Dateofbill         object\n",
       "Quantity            int64\n",
       "ReturnQuantity      int64\n",
       "Final_Cost        float64\n",
       "Final_Sales       float64\n",
       "RtnMRP            float64\n",
       "Formulation        object\n",
       "DrugName           object\n",
       "SubCat             object\n",
       "SubCat1            object\n",
       "dtype: object"
      ]
     },
     "execution_count": 6,
     "metadata": {},
     "output_type": "execute_result"
    }
   ],
   "source": [
    "# Viewing datatypes\n",
    "pharma_data.dtypes"
   ]
  },
  {
   "cell_type": "markdown",
   "metadata": {},
   "source": [
    "#### Type Casting"
   ]
  },
  {
   "cell_type": "code",
   "execution_count": 7,
   "metadata": {},
   "outputs": [],
   "source": [
    "# Type casting\n",
    "pharma_data[\"Patient_ID\"] = pharma_data[\"Patient_ID\"].astype('str')\n",
    "pharma_data[\"Final_Sales\"] = pharma_data[\"Final_Sales\"].astype('float32')\n",
    "pharma_data[\"Final_Cost\"] = pharma_data[\"Final_Cost\"].astype('float32')"
   ]
  },
  {
   "cell_type": "code",
   "execution_count": 8,
   "metadata": {},
   "outputs": [
    {
     "data": {
      "text/plain": [
       "Typeofsales        object\n",
       "Patient_ID         object\n",
       "Specialisation     object\n",
       "Dept               object\n",
       "Dateofbill         object\n",
       "Quantity            int64\n",
       "ReturnQuantity      int64\n",
       "Final_Cost        float32\n",
       "Final_Sales       float32\n",
       "RtnMRP            float64\n",
       "Formulation        object\n",
       "DrugName           object\n",
       "SubCat             object\n",
       "SubCat1            object\n",
       "dtype: object"
      ]
     },
     "execution_count": 8,
     "metadata": {},
     "output_type": "execute_result"
    }
   ],
   "source": [
    "# Viewing datatypes\n",
    "pharma_data.dtypes"
   ]
  },
  {
   "cell_type": "markdown",
   "metadata": {},
   "source": [
    "#### Handling Duplicates"
   ]
  },
  {
   "cell_type": "code",
   "execution_count": null,
   "metadata": {},
   "outputs": [
    {
     "data": {
      "text/plain": [
       "26"
      ]
     },
     "execution_count": 9,
     "metadata": {},
     "output_type": "execute_result"
    }
   ],
   "source": [
    "# Checking duplicate values\n",
    "duplicate = pharma_data.duplicated()\n",
    "sum(duplicate)"
   ]
  },
  {
   "cell_type": "code",
   "execution_count": null,
   "metadata": {},
   "outputs": [
    {
     "data": {
      "text/plain": [
       "0"
      ]
     },
     "execution_count": 10,
     "metadata": {},
     "output_type": "execute_result"
    }
   ],
   "source": [
    "# Removing duplicate values\n",
    "pharma_data = pharma_data.drop_duplicates()\n",
    "duplicate = pharma_data.duplicated()\n",
    "sum(duplicate)"
   ]
  },
  {
   "cell_type": "markdown",
   "metadata": {},
   "source": [
    "#### Handling Missing Values"
   ]
  },
  {
   "cell_type": "code",
   "execution_count": 11,
   "metadata": {},
   "outputs": [],
   "source": [
    "# Replacing missing values\n",
    "pharma_data.replace('', pd.NA, inplace=True)"
   ]
  },
  {
   "cell_type": "code",
   "execution_count": 12,
   "metadata": {},
   "outputs": [
    {
     "data": {
      "text/plain": [
       "Typeofsales          0\n",
       "Patient_ID           0\n",
       "Specialisation       0\n",
       "Dept                 0\n",
       "Dateofbill           0\n",
       "Quantity             0\n",
       "ReturnQuantity       0\n",
       "Final_Cost           0\n",
       "Final_Sales          0\n",
       "RtnMRP               0\n",
       "Formulation        650\n",
       "DrugName          1659\n",
       "SubCat            1659\n",
       "SubCat1           1682\n",
       "dtype: int64"
      ]
     },
     "execution_count": 12,
     "metadata": {},
     "output_type": "execute_result"
    }
   ],
   "source": [
    "# Checking missisng values\n",
    "pharma_data.isnull().sum()"
   ]
  },
  {
   "cell_type": "code",
   "execution_count": 13,
   "metadata": {},
   "outputs": [],
   "source": [
    "group_cols = ['Typeofsales', 'Specialisation', 'Dept']"
   ]
  },
  {
   "cell_type": "markdown",
   "metadata": {},
   "source": [
    "##### Imputation (Mode)"
   ]
  },
  {
   "cell_type": "code",
   "execution_count": 14,
   "metadata": {},
   "outputs": [],
   "source": [
    "# Applying Imputation to missing values (beforehand we have removed this, we will not do same now)\n",
    "pharma_data.dropna(subset=['SubCat1','DrugName','SubCat','Formulation'],inplace=True)"
   ]
  },
  {
   "cell_type": "code",
   "execution_count": 15,
   "metadata": {},
   "outputs": [],
   "source": [
    "# Impute missing values in Formulation column based on the mode of the group\n",
    "for col in ['Formulation', 'DrugName', 'SubCat', 'SubCat1']:\n",
    "    pharma_data[col] = pharma_data.groupby(group_cols)[col].apply(\n",
    "        lambda x: x.fillna(x.mode().iloc[0]) if not x.mode().empty else x)"
   ]
  },
  {
   "cell_type": "code",
   "execution_count": 16,
   "metadata": {},
   "outputs": [
    {
     "data": {
      "text/plain": [
       "Typeofsales       0\n",
       "Patient_ID        0\n",
       "Specialisation    0\n",
       "Dept              0\n",
       "Dateofbill        0\n",
       "Quantity          0\n",
       "ReturnQuantity    0\n",
       "Final_Cost        0\n",
       "Final_Sales       0\n",
       "RtnMRP            0\n",
       "Formulation       0\n",
       "DrugName          0\n",
       "SubCat            0\n",
       "SubCat1           0\n",
       "dtype: int64"
      ]
     },
     "execution_count": 16,
     "metadata": {},
     "output_type": "execute_result"
    }
   ],
   "source": [
    "# Checking missing values\n",
    "pharma_data.isnull().sum()"
   ]
  },
  {
   "cell_type": "code",
   "execution_count": 17,
   "metadata": {},
   "outputs": [
    {
     "data": {
      "text/plain": [
       "Typeofsales       0\n",
       "Patient_ID        0\n",
       "Specialisation    0\n",
       "Dept              0\n",
       "Dateofbill        0\n",
       "Quantity          0\n",
       "ReturnQuantity    0\n",
       "Final_Cost        0\n",
       "Final_Sales       0\n",
       "RtnMRP            0\n",
       "Formulation       0\n",
       "DrugName          0\n",
       "SubCat            0\n",
       "SubCat1           0\n",
       "dtype: int64"
      ]
     },
     "execution_count": 17,
     "metadata": {},
     "output_type": "execute_result"
    }
   ],
   "source": [
    "# Still there are some missing values that need to be dropped\n",
    "pharma_data.dropna(inplace=True)\n",
    "pharma_data= pharma_data.reset_index(drop=True)\n",
    "pharma_data.isnull().sum()"
   ]
  },
  {
   "cell_type": "markdown",
   "metadata": {},
   "source": [
    "#### Data Manipulation"
   ]
  },
  {
   "cell_type": "code",
   "execution_count": 18,
   "metadata": {},
   "outputs": [],
   "source": [
    "# Checking datatyoe of 'Dateofbill' column\n",
    "date_column = 'Dateofbill'\n",
    "pharma_data[date_column] = pd.to_datetime(pharma_data[date_column])\n",
    "\n",
    "# Sort dataset by date column in ascending order\n",
    "pharma_data = pharma_data.sort_values(by=date_column, ascending=True)"
   ]
  },
  {
   "cell_type": "code",
   "execution_count": 19,
   "metadata": {},
   "outputs": [],
   "source": [
    "# Specify Final Cost column to round\n",
    "column_name = 'Final_Cost'\n",
    "\n",
    "# Specify number of decimal places to round to 0\n",
    "decimal_places = 0\n",
    "\n",
    "# Round the values in the column to 0\n",
    "pharma_data[column_name] = pharma_data[column_name].apply(\n",
    "    lambda x: round(x, decimal_places))\n",
    "\n",
    "# Specify Final Sales column to round\n",
    "column_name1 = 'Final_Sales'\n",
    "\n",
    "# Specify number of decimal places to round to 0\n",
    "decimal_places1 = 0\n",
    "\n",
    "# Round values in the column to 0\n",
    "pharma_data[column_name1] = pharma_data[column_name1].apply(\n",
    "    lambda x: round(x, decimal_places1))\n"
   ]
  },
  {
   "cell_type": "code",
   "execution_count": 20,
   "metadata": {},
   "outputs": [],
   "source": [
    "# Dropping column\n",
    "pharma_data.drop(columns=[\"ReturnQuantity\"], axis=1, inplace=True)"
   ]
  },
  {
   "cell_type": "code",
   "execution_count": 21,
   "metadata": {},
   "outputs": [
    {
     "data": {
      "text/html": [
       "<div>\n",
       "<style scoped>\n",
       "    .dataframe tbody tr th:only-of-type {\n",
       "        vertical-align: middle;\n",
       "    }\n",
       "\n",
       "    .dataframe tbody tr th {\n",
       "        vertical-align: top;\n",
       "    }\n",
       "\n",
       "    .dataframe thead th {\n",
       "        text-align: right;\n",
       "    }\n",
       "</style>\n",
       "<table border=\"1\" class=\"dataframe\">\n",
       "  <thead>\n",
       "    <tr style=\"text-align: right;\">\n",
       "      <th></th>\n",
       "      <th>Typeofsales</th>\n",
       "      <th>Patient_ID</th>\n",
       "      <th>Specialisation</th>\n",
       "      <th>Dept</th>\n",
       "      <th>Dateofbill</th>\n",
       "      <th>Quantity</th>\n",
       "      <th>Final_Cost</th>\n",
       "      <th>Final_Sales</th>\n",
       "      <th>RtnMRP</th>\n",
       "      <th>Formulation</th>\n",
       "      <th>DrugName</th>\n",
       "      <th>SubCat</th>\n",
       "      <th>SubCat1</th>\n",
       "    </tr>\n",
       "  </thead>\n",
       "  <tbody>\n",
       "    <tr>\n",
       "      <th>6247</th>\n",
       "      <td>Sale</td>\n",
       "      <td>12018071419</td>\n",
       "      <td>Specialisation4</td>\n",
       "      <td>Department2</td>\n",
       "      <td>2022-01-01</td>\n",
       "      <td>1</td>\n",
       "      <td>44.0</td>\n",
       "      <td>47.0</td>\n",
       "      <td>0.00</td>\n",
       "      <td>Form1</td>\n",
       "      <td>LIGNOCAINE HYDROCHLORIDE 2% INJ</td>\n",
       "      <td>OINTMENTS, CREAMS &amp; GELS</td>\n",
       "      <td>ANAESTHETICS</td>\n",
       "    </tr>\n",
       "    <tr>\n",
       "      <th>130</th>\n",
       "      <td>Sale</td>\n",
       "      <td>12018081316</td>\n",
       "      <td>Specialisation3</td>\n",
       "      <td>Department1</td>\n",
       "      <td>2022-01-01</td>\n",
       "      <td>2</td>\n",
       "      <td>49.0</td>\n",
       "      <td>104.0</td>\n",
       "      <td>0.00</td>\n",
       "      <td>Form1</td>\n",
       "      <td>CEFTRIAXONE 1GM</td>\n",
       "      <td>INJECTIONS</td>\n",
       "      <td>ANTI-INFECTIVES</td>\n",
       "    </tr>\n",
       "    <tr>\n",
       "      <th>1935</th>\n",
       "      <td>Sale</td>\n",
       "      <td>12018081605</td>\n",
       "      <td>Specialisation2</td>\n",
       "      <td>Department1</td>\n",
       "      <td>2022-01-01</td>\n",
       "      <td>2</td>\n",
       "      <td>62.0</td>\n",
       "      <td>112.0</td>\n",
       "      <td>0.00</td>\n",
       "      <td>Form1</td>\n",
       "      <td>SODIUM CHLORIDE 0.9%</td>\n",
       "      <td>IV FLUIDS, ELECTROLYTES, TPN</td>\n",
       "      <td>INTRAVENOUS &amp; OTHER STERILE SOLUTIONS</td>\n",
       "    </tr>\n",
       "    <tr>\n",
       "      <th>9975</th>\n",
       "      <td>Sale</td>\n",
       "      <td>12018080728</td>\n",
       "      <td>Specialisation4</td>\n",
       "      <td>Department1</td>\n",
       "      <td>2022-01-01</td>\n",
       "      <td>1</td>\n",
       "      <td>72.0</td>\n",
       "      <td>82.0</td>\n",
       "      <td>0.00</td>\n",
       "      <td>Form1</td>\n",
       "      <td>LIQUID PARAFFIN + MILK OF MAGNESIA</td>\n",
       "      <td>SYRUP &amp; SUSPENSION</td>\n",
       "      <td>GASTROINTESTINAL &amp; HEPATOBILIARY SYSTEM</td>\n",
       "    </tr>\n",
       "    <tr>\n",
       "      <th>10648</th>\n",
       "      <td>Sale</td>\n",
       "      <td>12018038526</td>\n",
       "      <td>Specialisation5</td>\n",
       "      <td>Department1</td>\n",
       "      <td>2022-01-01</td>\n",
       "      <td>3</td>\n",
       "      <td>60.0</td>\n",
       "      <td>139.0</td>\n",
       "      <td>0.00</td>\n",
       "      <td>Form1</td>\n",
       "      <td>DEXTROSE 10%W/V 500ML IVF</td>\n",
       "      <td>IV FLUIDS, ELECTROLYTES, TPN</td>\n",
       "      <td>INTRAVENOUS &amp; OTHER STERILE SOLUTIONS</td>\n",
       "    </tr>\n",
       "    <tr>\n",
       "      <th>10689</th>\n",
       "      <td>Sale</td>\n",
       "      <td>12018072643</td>\n",
       "      <td>Specialisation11</td>\n",
       "      <td>Department1</td>\n",
       "      <td>2022-01-01</td>\n",
       "      <td>1</td>\n",
       "      <td>44.0</td>\n",
       "      <td>47.0</td>\n",
       "      <td>0.00</td>\n",
       "      <td>Form1</td>\n",
       "      <td>LIGNOCAINE HYDROCHLORIDE 2% INJ</td>\n",
       "      <td>OINTMENTS, CREAMS &amp; GELS</td>\n",
       "      <td>ANAESTHETICS</td>\n",
       "    </tr>\n",
       "    <tr>\n",
       "      <th>11981</th>\n",
       "      <td>Sale</td>\n",
       "      <td>12018075045</td>\n",
       "      <td>Specialisation4</td>\n",
       "      <td>Department1</td>\n",
       "      <td>2022-01-01</td>\n",
       "      <td>1</td>\n",
       "      <td>48.0</td>\n",
       "      <td>50.0</td>\n",
       "      <td>0.00</td>\n",
       "      <td>Form1</td>\n",
       "      <td>FLUCONAZOLE 50MG TAB</td>\n",
       "      <td>TABLETS &amp; CAPSULES</td>\n",
       "      <td>ANTI-INFECTIVES</td>\n",
       "    </tr>\n",
       "    <tr>\n",
       "      <th>11884</th>\n",
       "      <td>Sale</td>\n",
       "      <td>12018064578</td>\n",
       "      <td>Specialisation10</td>\n",
       "      <td>Department2</td>\n",
       "      <td>2022-01-01</td>\n",
       "      <td>3</td>\n",
       "      <td>121.0</td>\n",
       "      <td>308.0</td>\n",
       "      <td>0.00</td>\n",
       "      <td>Form1</td>\n",
       "      <td>PROPOFOL 1% 20ML INJ</td>\n",
       "      <td>INJECTIONS</td>\n",
       "      <td>ANAESTHETICS</td>\n",
       "    </tr>\n",
       "    <tr>\n",
       "      <th>9247</th>\n",
       "      <td>Return</td>\n",
       "      <td>12018081506</td>\n",
       "      <td>Specialisation2</td>\n",
       "      <td>Department1</td>\n",
       "      <td>2022-01-01</td>\n",
       "      <td>0</td>\n",
       "      <td>132.0</td>\n",
       "      <td>0.0</td>\n",
       "      <td>336.76</td>\n",
       "      <td>Form1</td>\n",
       "      <td>ENOXAPARIN 60MG</td>\n",
       "      <td>INJECTIONS</td>\n",
       "      <td>CARDIOVASCULAR &amp; HEMATOPOIETIC SYSTEM</td>\n",
       "    </tr>\n",
       "    <tr>\n",
       "      <th>1595</th>\n",
       "      <td>Sale</td>\n",
       "      <td>12018044636</td>\n",
       "      <td>Specialisation21</td>\n",
       "      <td>Department1</td>\n",
       "      <td>2022-01-01</td>\n",
       "      <td>2</td>\n",
       "      <td>45.0</td>\n",
       "      <td>87.0</td>\n",
       "      <td>0.00</td>\n",
       "      <td>Form1</td>\n",
       "      <td>SODIUM CHLORIDE 0.9%</td>\n",
       "      <td>IV FLUIDS, ELECTROLYTES, TPN</td>\n",
       "      <td>INTRAVENOUS &amp; OTHER STERILE SOLUTIONS</td>\n",
       "    </tr>\n",
       "  </tbody>\n",
       "</table>\n",
       "</div>"
      ],
      "text/plain": [
       "      Typeofsales   Patient_ID    Specialisation         Dept Dateofbill  \\\n",
       "6247         Sale  12018071419   Specialisation4  Department2 2022-01-01   \n",
       "130          Sale  12018081316   Specialisation3  Department1 2022-01-01   \n",
       "1935         Sale  12018081605   Specialisation2  Department1 2022-01-01   \n",
       "9975         Sale  12018080728   Specialisation4  Department1 2022-01-01   \n",
       "10648        Sale  12018038526   Specialisation5  Department1 2022-01-01   \n",
       "10689        Sale  12018072643  Specialisation11  Department1 2022-01-01   \n",
       "11981        Sale  12018075045   Specialisation4  Department1 2022-01-01   \n",
       "11884        Sale  12018064578  Specialisation10  Department2 2022-01-01   \n",
       "9247       Return  12018081506   Specialisation2  Department1 2022-01-01   \n",
       "1595         Sale  12018044636  Specialisation21  Department1 2022-01-01   \n",
       "\n",
       "       Quantity  Final_Cost  Final_Sales  RtnMRP Formulation  \\\n",
       "6247          1        44.0         47.0    0.00       Form1   \n",
       "130           2        49.0        104.0    0.00       Form1   \n",
       "1935          2        62.0        112.0    0.00       Form1   \n",
       "9975          1        72.0         82.0    0.00       Form1   \n",
       "10648         3        60.0        139.0    0.00       Form1   \n",
       "10689         1        44.0         47.0    0.00       Form1   \n",
       "11981         1        48.0         50.0    0.00       Form1   \n",
       "11884         3       121.0        308.0    0.00       Form1   \n",
       "9247          0       132.0          0.0  336.76       Form1   \n",
       "1595          2        45.0         87.0    0.00       Form1   \n",
       "\n",
       "                                 DrugName                        SubCat  \\\n",
       "6247      LIGNOCAINE HYDROCHLORIDE 2% INJ      OINTMENTS, CREAMS & GELS   \n",
       "130                       CEFTRIAXONE 1GM                    INJECTIONS   \n",
       "1935                 SODIUM CHLORIDE 0.9%  IV FLUIDS, ELECTROLYTES, TPN   \n",
       "9975   LIQUID PARAFFIN + MILK OF MAGNESIA            SYRUP & SUSPENSION   \n",
       "10648           DEXTROSE 10%W/V 500ML IVF  IV FLUIDS, ELECTROLYTES, TPN   \n",
       "10689     LIGNOCAINE HYDROCHLORIDE 2% INJ      OINTMENTS, CREAMS & GELS   \n",
       "11981                FLUCONAZOLE 50MG TAB            TABLETS & CAPSULES   \n",
       "11884                PROPOFOL 1% 20ML INJ                    INJECTIONS   \n",
       "9247                      ENOXAPARIN 60MG                    INJECTIONS   \n",
       "1595                 SODIUM CHLORIDE 0.9%  IV FLUIDS, ELECTROLYTES, TPN   \n",
       "\n",
       "                                       SubCat1  \n",
       "6247                              ANAESTHETICS  \n",
       "130                            ANTI-INFECTIVES  \n",
       "1935     INTRAVENOUS & OTHER STERILE SOLUTIONS  \n",
       "9975   GASTROINTESTINAL & HEPATOBILIARY SYSTEM  \n",
       "10648    INTRAVENOUS & OTHER STERILE SOLUTIONS  \n",
       "10689                             ANAESTHETICS  \n",
       "11981                          ANTI-INFECTIVES  \n",
       "11884                             ANAESTHETICS  \n",
       "9247     CARDIOVASCULAR & HEMATOPOIETIC SYSTEM  \n",
       "1595     INTRAVENOUS & OTHER STERILE SOLUTIONS  "
      ]
     },
     "execution_count": 21,
     "metadata": {},
     "output_type": "execute_result"
    }
   ],
   "source": [
    "# Viewing dataset\n",
    "pharma_data.head(10)"
   ]
  },
  {
   "cell_type": "code",
   "execution_count": 22,
   "metadata": {},
   "outputs": [
    {
     "data": {
      "text/html": [
       "<div>\n",
       "<style scoped>\n",
       "    .dataframe tbody tr th:only-of-type {\n",
       "        vertical-align: middle;\n",
       "    }\n",
       "\n",
       "    .dataframe tbody tr th {\n",
       "        vertical-align: top;\n",
       "    }\n",
       "\n",
       "    .dataframe thead th {\n",
       "        text-align: right;\n",
       "    }\n",
       "</style>\n",
       "<table border=\"1\" class=\"dataframe\">\n",
       "  <thead>\n",
       "    <tr style=\"text-align: right;\">\n",
       "      <th></th>\n",
       "      <th>Typeofsales</th>\n",
       "      <th>Patient_ID</th>\n",
       "      <th>Specialisation</th>\n",
       "      <th>Dept</th>\n",
       "      <th>Dateofbill</th>\n",
       "      <th>Quantity</th>\n",
       "      <th>Final_Cost</th>\n",
       "      <th>Final_Sales</th>\n",
       "      <th>RtnMRP</th>\n",
       "      <th>Formulation</th>\n",
       "      <th>DrugName</th>\n",
       "      <th>SubCat</th>\n",
       "      <th>SubCat1</th>\n",
       "    </tr>\n",
       "  </thead>\n",
       "  <tbody>\n",
       "    <tr>\n",
       "      <th>6247</th>\n",
       "      <td>Sale</td>\n",
       "      <td>12018071419</td>\n",
       "      <td>Specialisation4</td>\n",
       "      <td>Department2</td>\n",
       "      <td>Jan</td>\n",
       "      <td>1</td>\n",
       "      <td>44.0</td>\n",
       "      <td>47.0</td>\n",
       "      <td>0.0</td>\n",
       "      <td>Form1</td>\n",
       "      <td>LIGNOCAINE HYDROCHLORIDE 2% INJ</td>\n",
       "      <td>OINTMENTS, CREAMS &amp; GELS</td>\n",
       "      <td>ANAESTHETICS</td>\n",
       "    </tr>\n",
       "    <tr>\n",
       "      <th>130</th>\n",
       "      <td>Sale</td>\n",
       "      <td>12018081316</td>\n",
       "      <td>Specialisation3</td>\n",
       "      <td>Department1</td>\n",
       "      <td>Jan</td>\n",
       "      <td>2</td>\n",
       "      <td>49.0</td>\n",
       "      <td>104.0</td>\n",
       "      <td>0.0</td>\n",
       "      <td>Form1</td>\n",
       "      <td>CEFTRIAXONE 1GM</td>\n",
       "      <td>INJECTIONS</td>\n",
       "      <td>ANTI-INFECTIVES</td>\n",
       "    </tr>\n",
       "    <tr>\n",
       "      <th>1935</th>\n",
       "      <td>Sale</td>\n",
       "      <td>12018081605</td>\n",
       "      <td>Specialisation2</td>\n",
       "      <td>Department1</td>\n",
       "      <td>Jan</td>\n",
       "      <td>2</td>\n",
       "      <td>62.0</td>\n",
       "      <td>112.0</td>\n",
       "      <td>0.0</td>\n",
       "      <td>Form1</td>\n",
       "      <td>SODIUM CHLORIDE 0.9%</td>\n",
       "      <td>IV FLUIDS, ELECTROLYTES, TPN</td>\n",
       "      <td>INTRAVENOUS &amp; OTHER STERILE SOLUTIONS</td>\n",
       "    </tr>\n",
       "    <tr>\n",
       "      <th>9975</th>\n",
       "      <td>Sale</td>\n",
       "      <td>12018080728</td>\n",
       "      <td>Specialisation4</td>\n",
       "      <td>Department1</td>\n",
       "      <td>Jan</td>\n",
       "      <td>1</td>\n",
       "      <td>72.0</td>\n",
       "      <td>82.0</td>\n",
       "      <td>0.0</td>\n",
       "      <td>Form1</td>\n",
       "      <td>LIQUID PARAFFIN + MILK OF MAGNESIA</td>\n",
       "      <td>SYRUP &amp; SUSPENSION</td>\n",
       "      <td>GASTROINTESTINAL &amp; HEPATOBILIARY SYSTEM</td>\n",
       "    </tr>\n",
       "    <tr>\n",
       "      <th>10648</th>\n",
       "      <td>Sale</td>\n",
       "      <td>12018038526</td>\n",
       "      <td>Specialisation5</td>\n",
       "      <td>Department1</td>\n",
       "      <td>Jan</td>\n",
       "      <td>3</td>\n",
       "      <td>60.0</td>\n",
       "      <td>139.0</td>\n",
       "      <td>0.0</td>\n",
       "      <td>Form1</td>\n",
       "      <td>DEXTROSE 10%W/V 500ML IVF</td>\n",
       "      <td>IV FLUIDS, ELECTROLYTES, TPN</td>\n",
       "      <td>INTRAVENOUS &amp; OTHER STERILE SOLUTIONS</td>\n",
       "    </tr>\n",
       "  </tbody>\n",
       "</table>\n",
       "</div>"
      ],
      "text/plain": [
       "      Typeofsales   Patient_ID   Specialisation         Dept Dateofbill  \\\n",
       "6247         Sale  12018071419  Specialisation4  Department2        Jan   \n",
       "130          Sale  12018081316  Specialisation3  Department1        Jan   \n",
       "1935         Sale  12018081605  Specialisation2  Department1        Jan   \n",
       "9975         Sale  12018080728  Specialisation4  Department1        Jan   \n",
       "10648        Sale  12018038526  Specialisation5  Department1        Jan   \n",
       "\n",
       "       Quantity  Final_Cost  Final_Sales  RtnMRP Formulation  \\\n",
       "6247          1        44.0         47.0     0.0       Form1   \n",
       "130           2        49.0        104.0     0.0       Form1   \n",
       "1935          2        62.0        112.0     0.0       Form1   \n",
       "9975          1        72.0         82.0     0.0       Form1   \n",
       "10648         3        60.0        139.0     0.0       Form1   \n",
       "\n",
       "                                 DrugName                        SubCat  \\\n",
       "6247      LIGNOCAINE HYDROCHLORIDE 2% INJ      OINTMENTS, CREAMS & GELS   \n",
       "130                       CEFTRIAXONE 1GM                    INJECTIONS   \n",
       "1935                 SODIUM CHLORIDE 0.9%  IV FLUIDS, ELECTROLYTES, TPN   \n",
       "9975   LIQUID PARAFFIN + MILK OF MAGNESIA            SYRUP & SUSPENSION   \n",
       "10648           DEXTROSE 10%W/V 500ML IVF  IV FLUIDS, ELECTROLYTES, TPN   \n",
       "\n",
       "                                       SubCat1  \n",
       "6247                              ANAESTHETICS  \n",
       "130                            ANTI-INFECTIVES  \n",
       "1935     INTRAVENOUS & OTHER STERILE SOLUTIONS  \n",
       "9975   GASTROINTESTINAL & HEPATOBILIARY SYSTEM  \n",
       "10648    INTRAVENOUS & OTHER STERILE SOLUTIONS  "
      ]
     },
     "execution_count": 22,
     "metadata": {},
     "output_type": "execute_result"
    }
   ],
   "source": [
    "# Convert date formate to month\n",
    "pharma_data['Dateofbill'] = pd.to_datetime(pharma_data['Dateofbill'])\n",
    "pharma_data['Dateofbill'] = pharma_data['Dateofbill'].dt.strftime('%b')\n",
    "pharma_data.head()"
   ]
  },
  {
   "cell_type": "code",
   "execution_count": 23,
   "metadata": {},
   "outputs": [
    {
     "data": {
      "text/html": [
       "<div>\n",
       "<style scoped>\n",
       "    .dataframe tbody tr th:only-of-type {\n",
       "        vertical-align: middle;\n",
       "    }\n",
       "\n",
       "    .dataframe tbody tr th {\n",
       "        vertical-align: top;\n",
       "    }\n",
       "\n",
       "    .dataframe thead th {\n",
       "        text-align: right;\n",
       "    }\n",
       "</style>\n",
       "<table border=\"1\" class=\"dataframe\">\n",
       "  <thead>\n",
       "    <tr style=\"text-align: right;\">\n",
       "      <th>Dateofbill</th>\n",
       "      <th>Apr</th>\n",
       "      <th>Aug</th>\n",
       "      <th>Dec</th>\n",
       "      <th>Feb</th>\n",
       "      <th>Jan</th>\n",
       "      <th>Jul</th>\n",
       "      <th>Jun</th>\n",
       "      <th>Mar</th>\n",
       "      <th>May</th>\n",
       "      <th>Nov</th>\n",
       "      <th>Oct</th>\n",
       "      <th>Sep</th>\n",
       "    </tr>\n",
       "    <tr>\n",
       "      <th>SubCat</th>\n",
       "      <th></th>\n",
       "      <th></th>\n",
       "      <th></th>\n",
       "      <th></th>\n",
       "      <th></th>\n",
       "      <th></th>\n",
       "      <th></th>\n",
       "      <th></th>\n",
       "      <th></th>\n",
       "      <th></th>\n",
       "      <th></th>\n",
       "      <th></th>\n",
       "    </tr>\n",
       "  </thead>\n",
       "  <tbody>\n",
       "    <tr>\n",
       "      <th>DROPS</th>\n",
       "      <td>0.875000</td>\n",
       "      <td>1.000000</td>\n",
       "      <td>0.500000</td>\n",
       "      <td>0.666667</td>\n",
       "      <td>0.333333</td>\n",
       "      <td>1.000000</td>\n",
       "      <td>1.000000</td>\n",
       "      <td>1.000000</td>\n",
       "      <td>0.833333</td>\n",
       "      <td>1.000000</td>\n",
       "      <td>1.000000</td>\n",
       "      <td>0.875000</td>\n",
       "    </tr>\n",
       "    <tr>\n",
       "      <th>INHALERS &amp; RESPULES</th>\n",
       "      <td>2.766667</td>\n",
       "      <td>3.195652</td>\n",
       "      <td>2.804348</td>\n",
       "      <td>3.000000</td>\n",
       "      <td>4.075000</td>\n",
       "      <td>3.609756</td>\n",
       "      <td>3.028571</td>\n",
       "      <td>2.942857</td>\n",
       "      <td>3.131579</td>\n",
       "      <td>3.333333</td>\n",
       "      <td>2.324324</td>\n",
       "      <td>3.145833</td>\n",
       "    </tr>\n",
       "    <tr>\n",
       "      <th>INJECTIONS</th>\n",
       "      <td>1.962121</td>\n",
       "      <td>2.138318</td>\n",
       "      <td>1.916118</td>\n",
       "      <td>2.140741</td>\n",
       "      <td>1.877069</td>\n",
       "      <td>1.928705</td>\n",
       "      <td>1.857143</td>\n",
       "      <td>1.937143</td>\n",
       "      <td>1.703422</td>\n",
       "      <td>2.135827</td>\n",
       "      <td>1.956274</td>\n",
       "      <td>1.983108</td>\n",
       "    </tr>\n",
       "    <tr>\n",
       "      <th>IV FLUIDS, ELECTROLYTES, TPN</th>\n",
       "      <td>1.869198</td>\n",
       "      <td>1.918103</td>\n",
       "      <td>1.877934</td>\n",
       "      <td>1.850000</td>\n",
       "      <td>1.963731</td>\n",
       "      <td>1.902128</td>\n",
       "      <td>2.084158</td>\n",
       "      <td>1.938967</td>\n",
       "      <td>1.956140</td>\n",
       "      <td>1.744565</td>\n",
       "      <td>1.752809</td>\n",
       "      <td>1.751244</td>\n",
       "    </tr>\n",
       "    <tr>\n",
       "      <th>LIQUIDS &amp; SOLUTIONS</th>\n",
       "      <td>3.863636</td>\n",
       "      <td>5.148148</td>\n",
       "      <td>9.885714</td>\n",
       "      <td>3.937500</td>\n",
       "      <td>9.888889</td>\n",
       "      <td>6.318182</td>\n",
       "      <td>2.000000</td>\n",
       "      <td>7.520000</td>\n",
       "      <td>7.000000</td>\n",
       "      <td>19.000000</td>\n",
       "      <td>7.708333</td>\n",
       "      <td>0.937500</td>\n",
       "    </tr>\n",
       "  </tbody>\n",
       "</table>\n",
       "</div>"
      ],
      "text/plain": [
       "Dateofbill                         Apr       Aug       Dec       Feb  \\\n",
       "SubCat                                                                 \n",
       "DROPS                         0.875000  1.000000  0.500000  0.666667   \n",
       "INHALERS & RESPULES           2.766667  3.195652  2.804348  3.000000   \n",
       "INJECTIONS                    1.962121  2.138318  1.916118  2.140741   \n",
       "IV FLUIDS, ELECTROLYTES, TPN  1.869198  1.918103  1.877934  1.850000   \n",
       "LIQUIDS & SOLUTIONS           3.863636  5.148148  9.885714  3.937500   \n",
       "\n",
       "Dateofbill                         Jan       Jul       Jun       Mar  \\\n",
       "SubCat                                                                 \n",
       "DROPS                         0.333333  1.000000  1.000000  1.000000   \n",
       "INHALERS & RESPULES           4.075000  3.609756  3.028571  2.942857   \n",
       "INJECTIONS                    1.877069  1.928705  1.857143  1.937143   \n",
       "IV FLUIDS, ELECTROLYTES, TPN  1.963731  1.902128  2.084158  1.938967   \n",
       "LIQUIDS & SOLUTIONS           9.888889  6.318182  2.000000  7.520000   \n",
       "\n",
       "Dateofbill                         May        Nov       Oct       Sep  \n",
       "SubCat                                                                 \n",
       "DROPS                         0.833333   1.000000  1.000000  0.875000  \n",
       "INHALERS & RESPULES           3.131579   3.333333  2.324324  3.145833  \n",
       "INJECTIONS                    1.703422   2.135827  1.956274  1.983108  \n",
       "IV FLUIDS, ELECTROLYTES, TPN  1.956140   1.744565  1.752809  1.751244  \n",
       "LIQUIDS & SOLUTIONS           7.000000  19.000000  7.708333  0.937500  "
      ]
     },
     "execution_count": 23,
     "metadata": {},
     "output_type": "execute_result"
    }
   ],
   "source": [
    "# Pivot the DataFrame based on SubCat of drugs\n",
    "data_pivoted = pharma_data.pivot_table(index=\"SubCat\", columns=\"Dateofbill\", values=\"Quantity\")\n",
    "# Result\n",
    "data_pivoted.head()"
   ]
  },
  {
   "cell_type": "markdown",
   "metadata": {},
   "source": [
    "#### AutoEDA (D-Tale)"
   ]
  },
  {
   "cell_type": "code",
   "execution_count": 24,
   "metadata": {},
   "outputs": [],
   "source": [
    "df_grouped = pharma_data[['Dateofbill','Quantity']]"
   ]
  },
  {
   "cell_type": "code",
   "execution_count": 25,
   "metadata": {},
   "outputs": [
    {
     "data": {
      "text/html": [
       "<div>\n",
       "<style scoped>\n",
       "    .dataframe tbody tr th:only-of-type {\n",
       "        vertical-align: middle;\n",
       "    }\n",
       "\n",
       "    .dataframe tbody tr th {\n",
       "        vertical-align: top;\n",
       "    }\n",
       "\n",
       "    .dataframe thead th {\n",
       "        text-align: right;\n",
       "    }\n",
       "</style>\n",
       "<table border=\"1\" class=\"dataframe\">\n",
       "  <thead>\n",
       "    <tr style=\"text-align: right;\">\n",
       "      <th></th>\n",
       "      <th>Dateofbill</th>\n",
       "      <th>Quantity</th>\n",
       "    </tr>\n",
       "  </thead>\n",
       "  <tbody>\n",
       "    <tr>\n",
       "      <th>0</th>\n",
       "      <td>Apr</td>\n",
       "      <td>1936</td>\n",
       "    </tr>\n",
       "    <tr>\n",
       "      <th>1</th>\n",
       "      <td>Aug</td>\n",
       "      <td>2149</td>\n",
       "    </tr>\n",
       "    <tr>\n",
       "      <th>2</th>\n",
       "      <td>Dec</td>\n",
       "      <td>2290</td>\n",
       "    </tr>\n",
       "    <tr>\n",
       "      <th>3</th>\n",
       "      <td>Feb</td>\n",
       "      <td>1539</td>\n",
       "    </tr>\n",
       "    <tr>\n",
       "      <th>4</th>\n",
       "      <td>Jan</td>\n",
       "      <td>1840</td>\n",
       "    </tr>\n",
       "    <tr>\n",
       "      <th>5</th>\n",
       "      <td>Jul</td>\n",
       "      <td>2008</td>\n",
       "    </tr>\n",
       "    <tr>\n",
       "      <th>6</th>\n",
       "      <td>Jun</td>\n",
       "      <td>1743</td>\n",
       "    </tr>\n",
       "    <tr>\n",
       "      <th>7</th>\n",
       "      <td>Mar</td>\n",
       "      <td>1948</td>\n",
       "    </tr>\n",
       "    <tr>\n",
       "      <th>8</th>\n",
       "      <td>May</td>\n",
       "      <td>1818</td>\n",
       "    </tr>\n",
       "    <tr>\n",
       "      <th>9</th>\n",
       "      <td>Nov</td>\n",
       "      <td>2106</td>\n",
       "    </tr>\n",
       "    <tr>\n",
       "      <th>10</th>\n",
       "      <td>Oct</td>\n",
       "      <td>1831</td>\n",
       "    </tr>\n",
       "    <tr>\n",
       "      <th>11</th>\n",
       "      <td>Sep</td>\n",
       "      <td>1921</td>\n",
       "    </tr>\n",
       "  </tbody>\n",
       "</table>\n",
       "</div>"
      ],
      "text/plain": [
       "   Dateofbill  Quantity\n",
       "0         Apr      1936\n",
       "1         Aug      2149\n",
       "2         Dec      2290\n",
       "3         Feb      1539\n",
       "4         Jan      1840\n",
       "5         Jul      2008\n",
       "6         Jun      1743\n",
       "7         Mar      1948\n",
       "8         May      1818\n",
       "9         Nov      2106\n",
       "10        Oct      1831\n",
       "11        Sep      1921"
      ]
     },
     "execution_count": 25,
     "metadata": {},
     "output_type": "execute_result"
    }
   ],
   "source": [
    "# Group by Quantity and Month\n",
    "df_grouped = df_grouped.groupby('Dateofbill').sum()\n",
    "\n",
    "# Result\n",
    "df_grouped.head(10)\n",
    "df_grouped = df_grouped.reset_index()\n",
    "df_grouped"
   ]
  },
  {
   "cell_type": "code",
   "execution_count": 26,
   "metadata": {},
   "outputs": [],
   "source": [
    "# Create dictionary to map month names into numerical values\n",
    "dict_month = {'Jan': 1, 'Feb': 2, 'Mar': 3, 'Apr': 4, 'May': 5, 'Jun': 6,\n",
    "              'Jul': 7, 'Aug': 8, 'Sep': 9, 'Oct': 10, 'Nov': 11, 'Dec': 12}\n",
    "\n",
    "# Create a new column with the numerical values of the months\n",
    "df_grouped['Monthindex'] = df_grouped['Dateofbill'].map(dict_month)\n",
    "\n",
    "df_grouped = df_grouped.sort_values(by='Monthindex')"
   ]
  },
  {
   "cell_type": "code",
   "execution_count": 27,
   "metadata": {},
   "outputs": [
    {
     "data": {
      "text/html": [
       "<div>\n",
       "<style scoped>\n",
       "    .dataframe tbody tr th:only-of-type {\n",
       "        vertical-align: middle;\n",
       "    }\n",
       "\n",
       "    .dataframe tbody tr th {\n",
       "        vertical-align: top;\n",
       "    }\n",
       "\n",
       "    .dataframe thead th {\n",
       "        text-align: right;\n",
       "    }\n",
       "</style>\n",
       "<table border=\"1\" class=\"dataframe\">\n",
       "  <thead>\n",
       "    <tr style=\"text-align: right;\">\n",
       "      <th></th>\n",
       "      <th>Dateofbill</th>\n",
       "      <th>Quantity</th>\n",
       "    </tr>\n",
       "  </thead>\n",
       "  <tbody>\n",
       "    <tr>\n",
       "      <th>0</th>\n",
       "      <td>Jan</td>\n",
       "      <td>1840</td>\n",
       "    </tr>\n",
       "    <tr>\n",
       "      <th>1</th>\n",
       "      <td>Feb</td>\n",
       "      <td>1539</td>\n",
       "    </tr>\n",
       "    <tr>\n",
       "      <th>2</th>\n",
       "      <td>Mar</td>\n",
       "      <td>1948</td>\n",
       "    </tr>\n",
       "    <tr>\n",
       "      <th>3</th>\n",
       "      <td>Apr</td>\n",
       "      <td>1936</td>\n",
       "    </tr>\n",
       "    <tr>\n",
       "      <th>4</th>\n",
       "      <td>May</td>\n",
       "      <td>1818</td>\n",
       "    </tr>\n",
       "    <tr>\n",
       "      <th>5</th>\n",
       "      <td>Jun</td>\n",
       "      <td>1743</td>\n",
       "    </tr>\n",
       "    <tr>\n",
       "      <th>6</th>\n",
       "      <td>Jul</td>\n",
       "      <td>2008</td>\n",
       "    </tr>\n",
       "    <tr>\n",
       "      <th>7</th>\n",
       "      <td>Aug</td>\n",
       "      <td>2149</td>\n",
       "    </tr>\n",
       "    <tr>\n",
       "      <th>8</th>\n",
       "      <td>Sep</td>\n",
       "      <td>1921</td>\n",
       "    </tr>\n",
       "    <tr>\n",
       "      <th>9</th>\n",
       "      <td>Oct</td>\n",
       "      <td>1831</td>\n",
       "    </tr>\n",
       "    <tr>\n",
       "      <th>10</th>\n",
       "      <td>Nov</td>\n",
       "      <td>2106</td>\n",
       "    </tr>\n",
       "    <tr>\n",
       "      <th>11</th>\n",
       "      <td>Dec</td>\n",
       "      <td>2290</td>\n",
       "    </tr>\n",
       "  </tbody>\n",
       "</table>\n",
       "</div>"
      ],
      "text/plain": [
       "   Dateofbill  Quantity\n",
       "0         Jan      1840\n",
       "1         Feb      1539\n",
       "2         Mar      1948\n",
       "3         Apr      1936\n",
       "4         May      1818\n",
       "5         Jun      1743\n",
       "6         Jul      2008\n",
       "7         Aug      2149\n",
       "8         Sep      1921\n",
       "9         Oct      1831\n",
       "10        Nov      2106\n",
       "11        Dec      2290"
      ]
     },
     "execution_count": 27,
     "metadata": {},
     "output_type": "execute_result"
    }
   ],
   "source": [
    "# Drop Monthindex column\n",
    "df_grouped = df_grouped.drop(columns=['Monthindex'])\n",
    "df_grouped = df_grouped.reset_index(drop=True)\n",
    "df_grouped"
   ]
  },
  {
   "cell_type": "markdown",
   "metadata": {},
   "source": [
    "#### One-Hot Encoding"
   ]
  },
  {
   "cell_type": "code",
   "execution_count": 28,
   "metadata": {},
   "outputs": [
    {
     "data": {
      "text/plain": [
       "Index(['Apr', 'Aug', 'Dec', 'Feb', 'Jan', 'Jul', 'Jun', 'Mar', 'May', 'Nov',\n",
       "       'Oct', 'Sep'],\n",
       "      dtype='object')"
      ]
     },
     "execution_count": 28,
     "metadata": {},
     "output_type": "execute_result"
    }
   ],
   "source": [
    "# Applying one hot encoding\n",
    "data1 = pd.get_dummies(df_grouped.Dateofbill)\n",
    "data1.columns"
   ]
  },
  {
   "cell_type": "code",
   "execution_count": 29,
   "metadata": {},
   "outputs": [
    {
     "data": {
      "text/html": [
       "<div>\n",
       "<style scoped>\n",
       "    .dataframe tbody tr th:only-of-type {\n",
       "        vertical-align: middle;\n",
       "    }\n",
       "\n",
       "    .dataframe tbody tr th {\n",
       "        vertical-align: top;\n",
       "    }\n",
       "\n",
       "    .dataframe thead th {\n",
       "        text-align: right;\n",
       "    }\n",
       "</style>\n",
       "<table border=\"1\" class=\"dataframe\">\n",
       "  <thead>\n",
       "    <tr style=\"text-align: right;\">\n",
       "      <th></th>\n",
       "      <th>Dateofbill</th>\n",
       "      <th>Quantity</th>\n",
       "      <th>Apr</th>\n",
       "      <th>Aug</th>\n",
       "      <th>Dec</th>\n",
       "      <th>Feb</th>\n",
       "      <th>Jan</th>\n",
       "      <th>Jul</th>\n",
       "      <th>Jun</th>\n",
       "      <th>Mar</th>\n",
       "      <th>May</th>\n",
       "      <th>Nov</th>\n",
       "      <th>Oct</th>\n",
       "      <th>Sep</th>\n",
       "    </tr>\n",
       "  </thead>\n",
       "  <tbody>\n",
       "    <tr>\n",
       "      <th>0</th>\n",
       "      <td>Jan</td>\n",
       "      <td>1840</td>\n",
       "      <td>0</td>\n",
       "      <td>0</td>\n",
       "      <td>0</td>\n",
       "      <td>0</td>\n",
       "      <td>1</td>\n",
       "      <td>0</td>\n",
       "      <td>0</td>\n",
       "      <td>0</td>\n",
       "      <td>0</td>\n",
       "      <td>0</td>\n",
       "      <td>0</td>\n",
       "      <td>0</td>\n",
       "    </tr>\n",
       "    <tr>\n",
       "      <th>1</th>\n",
       "      <td>Feb</td>\n",
       "      <td>1539</td>\n",
       "      <td>0</td>\n",
       "      <td>0</td>\n",
       "      <td>0</td>\n",
       "      <td>1</td>\n",
       "      <td>0</td>\n",
       "      <td>0</td>\n",
       "      <td>0</td>\n",
       "      <td>0</td>\n",
       "      <td>0</td>\n",
       "      <td>0</td>\n",
       "      <td>0</td>\n",
       "      <td>0</td>\n",
       "    </tr>\n",
       "    <tr>\n",
       "      <th>2</th>\n",
       "      <td>Mar</td>\n",
       "      <td>1948</td>\n",
       "      <td>0</td>\n",
       "      <td>0</td>\n",
       "      <td>0</td>\n",
       "      <td>0</td>\n",
       "      <td>0</td>\n",
       "      <td>0</td>\n",
       "      <td>0</td>\n",
       "      <td>1</td>\n",
       "      <td>0</td>\n",
       "      <td>0</td>\n",
       "      <td>0</td>\n",
       "      <td>0</td>\n",
       "    </tr>\n",
       "    <tr>\n",
       "      <th>3</th>\n",
       "      <td>Apr</td>\n",
       "      <td>1936</td>\n",
       "      <td>1</td>\n",
       "      <td>0</td>\n",
       "      <td>0</td>\n",
       "      <td>0</td>\n",
       "      <td>0</td>\n",
       "      <td>0</td>\n",
       "      <td>0</td>\n",
       "      <td>0</td>\n",
       "      <td>0</td>\n",
       "      <td>0</td>\n",
       "      <td>0</td>\n",
       "      <td>0</td>\n",
       "    </tr>\n",
       "    <tr>\n",
       "      <th>4</th>\n",
       "      <td>May</td>\n",
       "      <td>1818</td>\n",
       "      <td>0</td>\n",
       "      <td>0</td>\n",
       "      <td>0</td>\n",
       "      <td>0</td>\n",
       "      <td>0</td>\n",
       "      <td>0</td>\n",
       "      <td>0</td>\n",
       "      <td>0</td>\n",
       "      <td>1</td>\n",
       "      <td>0</td>\n",
       "      <td>0</td>\n",
       "      <td>0</td>\n",
       "    </tr>\n",
       "    <tr>\n",
       "      <th>5</th>\n",
       "      <td>Jun</td>\n",
       "      <td>1743</td>\n",
       "      <td>0</td>\n",
       "      <td>0</td>\n",
       "      <td>0</td>\n",
       "      <td>0</td>\n",
       "      <td>0</td>\n",
       "      <td>0</td>\n",
       "      <td>1</td>\n",
       "      <td>0</td>\n",
       "      <td>0</td>\n",
       "      <td>0</td>\n",
       "      <td>0</td>\n",
       "      <td>0</td>\n",
       "    </tr>\n",
       "    <tr>\n",
       "      <th>6</th>\n",
       "      <td>Jul</td>\n",
       "      <td>2008</td>\n",
       "      <td>0</td>\n",
       "      <td>0</td>\n",
       "      <td>0</td>\n",
       "      <td>0</td>\n",
       "      <td>0</td>\n",
       "      <td>1</td>\n",
       "      <td>0</td>\n",
       "      <td>0</td>\n",
       "      <td>0</td>\n",
       "      <td>0</td>\n",
       "      <td>0</td>\n",
       "      <td>0</td>\n",
       "    </tr>\n",
       "    <tr>\n",
       "      <th>7</th>\n",
       "      <td>Aug</td>\n",
       "      <td>2149</td>\n",
       "      <td>0</td>\n",
       "      <td>1</td>\n",
       "      <td>0</td>\n",
       "      <td>0</td>\n",
       "      <td>0</td>\n",
       "      <td>0</td>\n",
       "      <td>0</td>\n",
       "      <td>0</td>\n",
       "      <td>0</td>\n",
       "      <td>0</td>\n",
       "      <td>0</td>\n",
       "      <td>0</td>\n",
       "    </tr>\n",
       "    <tr>\n",
       "      <th>8</th>\n",
       "      <td>Sep</td>\n",
       "      <td>1921</td>\n",
       "      <td>0</td>\n",
       "      <td>0</td>\n",
       "      <td>0</td>\n",
       "      <td>0</td>\n",
       "      <td>0</td>\n",
       "      <td>0</td>\n",
       "      <td>0</td>\n",
       "      <td>0</td>\n",
       "      <td>0</td>\n",
       "      <td>0</td>\n",
       "      <td>0</td>\n",
       "      <td>1</td>\n",
       "    </tr>\n",
       "    <tr>\n",
       "      <th>9</th>\n",
       "      <td>Oct</td>\n",
       "      <td>1831</td>\n",
       "      <td>0</td>\n",
       "      <td>0</td>\n",
       "      <td>0</td>\n",
       "      <td>0</td>\n",
       "      <td>0</td>\n",
       "      <td>0</td>\n",
       "      <td>0</td>\n",
       "      <td>0</td>\n",
       "      <td>0</td>\n",
       "      <td>0</td>\n",
       "      <td>1</td>\n",
       "      <td>0</td>\n",
       "    </tr>\n",
       "    <tr>\n",
       "      <th>10</th>\n",
       "      <td>Nov</td>\n",
       "      <td>2106</td>\n",
       "      <td>0</td>\n",
       "      <td>0</td>\n",
       "      <td>0</td>\n",
       "      <td>0</td>\n",
       "      <td>0</td>\n",
       "      <td>0</td>\n",
       "      <td>0</td>\n",
       "      <td>0</td>\n",
       "      <td>0</td>\n",
       "      <td>1</td>\n",
       "      <td>0</td>\n",
       "      <td>0</td>\n",
       "    </tr>\n",
       "    <tr>\n",
       "      <th>11</th>\n",
       "      <td>Dec</td>\n",
       "      <td>2290</td>\n",
       "      <td>0</td>\n",
       "      <td>0</td>\n",
       "      <td>1</td>\n",
       "      <td>0</td>\n",
       "      <td>0</td>\n",
       "      <td>0</td>\n",
       "      <td>0</td>\n",
       "      <td>0</td>\n",
       "      <td>0</td>\n",
       "      <td>0</td>\n",
       "      <td>0</td>\n",
       "      <td>0</td>\n",
       "    </tr>\n",
       "  </tbody>\n",
       "</table>\n",
       "</div>"
      ],
      "text/plain": [
       "   Dateofbill  Quantity  Apr  Aug  Dec  Feb  Jan  Jul  Jun  Mar  May  Nov  \\\n",
       "0         Jan      1840    0    0    0    0    1    0    0    0    0    0   \n",
       "1         Feb      1539    0    0    0    1    0    0    0    0    0    0   \n",
       "2         Mar      1948    0    0    0    0    0    0    0    1    0    0   \n",
       "3         Apr      1936    1    0    0    0    0    0    0    0    0    0   \n",
       "4         May      1818    0    0    0    0    0    0    0    0    1    0   \n",
       "5         Jun      1743    0    0    0    0    0    0    1    0    0    0   \n",
       "6         Jul      2008    0    0    0    0    0    1    0    0    0    0   \n",
       "7         Aug      2149    0    1    0    0    0    0    0    0    0    0   \n",
       "8         Sep      1921    0    0    0    0    0    0    0    0    0    0   \n",
       "9         Oct      1831    0    0    0    0    0    0    0    0    0    0   \n",
       "10        Nov      2106    0    0    0    0    0    0    0    0    0    1   \n",
       "11        Dec      2290    0    0    1    0    0    0    0    0    0    0   \n",
       "\n",
       "    Oct  Sep  \n",
       "0     0    0  \n",
       "1     0    0  \n",
       "2     0    0  \n",
       "3     0    0  \n",
       "4     0    0  \n",
       "5     0    0  \n",
       "6     0    0  \n",
       "7     0    0  \n",
       "8     0    1  \n",
       "9     1    0  \n",
       "10    0    0  \n",
       "11    0    0  "
      ]
     },
     "execution_count": 29,
     "metadata": {},
     "output_type": "execute_result"
    }
   ],
   "source": [
    "# Viewing dataset\n",
    "data = pd.concat([df_grouped , data1] , axis = 1)\n",
    "data"
   ]
  },
  {
   "cell_type": "code",
   "execution_count": 30,
   "metadata": {},
   "outputs": [
    {
     "data": {
      "text/html": [
       "<div>\n",
       "<style scoped>\n",
       "    .dataframe tbody tr th:only-of-type {\n",
       "        vertical-align: middle;\n",
       "    }\n",
       "\n",
       "    .dataframe tbody tr th {\n",
       "        vertical-align: top;\n",
       "    }\n",
       "\n",
       "    .dataframe thead th {\n",
       "        text-align: right;\n",
       "    }\n",
       "</style>\n",
       "<table border=\"1\" class=\"dataframe\">\n",
       "  <thead>\n",
       "    <tr style=\"text-align: right;\">\n",
       "      <th></th>\n",
       "      <th>Dateofbill</th>\n",
       "      <th>Quantity</th>\n",
       "      <th>Apr</th>\n",
       "      <th>Aug</th>\n",
       "      <th>Dec</th>\n",
       "      <th>Feb</th>\n",
       "      <th>Jan</th>\n",
       "      <th>Jul</th>\n",
       "      <th>Jun</th>\n",
       "      <th>Mar</th>\n",
       "      <th>May</th>\n",
       "      <th>Nov</th>\n",
       "      <th>Oct</th>\n",
       "      <th>Sep</th>\n",
       "      <th>log_Quantity</th>\n",
       "    </tr>\n",
       "  </thead>\n",
       "  <tbody>\n",
       "    <tr>\n",
       "      <th>0</th>\n",
       "      <td>Jan</td>\n",
       "      <td>1840</td>\n",
       "      <td>0</td>\n",
       "      <td>0</td>\n",
       "      <td>0</td>\n",
       "      <td>0</td>\n",
       "      <td>1</td>\n",
       "      <td>0</td>\n",
       "      <td>0</td>\n",
       "      <td>0</td>\n",
       "      <td>0</td>\n",
       "      <td>0</td>\n",
       "      <td>0</td>\n",
       "      <td>0</td>\n",
       "      <td>7.517521</td>\n",
       "    </tr>\n",
       "    <tr>\n",
       "      <th>1</th>\n",
       "      <td>Feb</td>\n",
       "      <td>1539</td>\n",
       "      <td>0</td>\n",
       "      <td>0</td>\n",
       "      <td>0</td>\n",
       "      <td>1</td>\n",
       "      <td>0</td>\n",
       "      <td>0</td>\n",
       "      <td>0</td>\n",
       "      <td>0</td>\n",
       "      <td>0</td>\n",
       "      <td>0</td>\n",
       "      <td>0</td>\n",
       "      <td>0</td>\n",
       "      <td>7.338888</td>\n",
       "    </tr>\n",
       "    <tr>\n",
       "      <th>2</th>\n",
       "      <td>Mar</td>\n",
       "      <td>1948</td>\n",
       "      <td>0</td>\n",
       "      <td>0</td>\n",
       "      <td>0</td>\n",
       "      <td>0</td>\n",
       "      <td>0</td>\n",
       "      <td>0</td>\n",
       "      <td>0</td>\n",
       "      <td>1</td>\n",
       "      <td>0</td>\n",
       "      <td>0</td>\n",
       "      <td>0</td>\n",
       "      <td>0</td>\n",
       "      <td>7.574558</td>\n",
       "    </tr>\n",
       "    <tr>\n",
       "      <th>3</th>\n",
       "      <td>Apr</td>\n",
       "      <td>1936</td>\n",
       "      <td>1</td>\n",
       "      <td>0</td>\n",
       "      <td>0</td>\n",
       "      <td>0</td>\n",
       "      <td>0</td>\n",
       "      <td>0</td>\n",
       "      <td>0</td>\n",
       "      <td>0</td>\n",
       "      <td>0</td>\n",
       "      <td>0</td>\n",
       "      <td>0</td>\n",
       "      <td>0</td>\n",
       "      <td>7.568379</td>\n",
       "    </tr>\n",
       "    <tr>\n",
       "      <th>4</th>\n",
       "      <td>May</td>\n",
       "      <td>1818</td>\n",
       "      <td>0</td>\n",
       "      <td>0</td>\n",
       "      <td>0</td>\n",
       "      <td>0</td>\n",
       "      <td>0</td>\n",
       "      <td>0</td>\n",
       "      <td>0</td>\n",
       "      <td>0</td>\n",
       "      <td>1</td>\n",
       "      <td>0</td>\n",
       "      <td>0</td>\n",
       "      <td>0</td>\n",
       "      <td>7.505492</td>\n",
       "    </tr>\n",
       "    <tr>\n",
       "      <th>5</th>\n",
       "      <td>Jun</td>\n",
       "      <td>1743</td>\n",
       "      <td>0</td>\n",
       "      <td>0</td>\n",
       "      <td>0</td>\n",
       "      <td>0</td>\n",
       "      <td>0</td>\n",
       "      <td>0</td>\n",
       "      <td>1</td>\n",
       "      <td>0</td>\n",
       "      <td>0</td>\n",
       "      <td>0</td>\n",
       "      <td>0</td>\n",
       "      <td>0</td>\n",
       "      <td>7.463363</td>\n",
       "    </tr>\n",
       "    <tr>\n",
       "      <th>6</th>\n",
       "      <td>Jul</td>\n",
       "      <td>2008</td>\n",
       "      <td>0</td>\n",
       "      <td>0</td>\n",
       "      <td>0</td>\n",
       "      <td>0</td>\n",
       "      <td>0</td>\n",
       "      <td>1</td>\n",
       "      <td>0</td>\n",
       "      <td>0</td>\n",
       "      <td>0</td>\n",
       "      <td>0</td>\n",
       "      <td>0</td>\n",
       "      <td>0</td>\n",
       "      <td>7.604894</td>\n",
       "    </tr>\n",
       "    <tr>\n",
       "      <th>7</th>\n",
       "      <td>Aug</td>\n",
       "      <td>2149</td>\n",
       "      <td>0</td>\n",
       "      <td>1</td>\n",
       "      <td>0</td>\n",
       "      <td>0</td>\n",
       "      <td>0</td>\n",
       "      <td>0</td>\n",
       "      <td>0</td>\n",
       "      <td>0</td>\n",
       "      <td>0</td>\n",
       "      <td>0</td>\n",
       "      <td>0</td>\n",
       "      <td>0</td>\n",
       "      <td>7.672758</td>\n",
       "    </tr>\n",
       "    <tr>\n",
       "      <th>8</th>\n",
       "      <td>Sep</td>\n",
       "      <td>1921</td>\n",
       "      <td>0</td>\n",
       "      <td>0</td>\n",
       "      <td>0</td>\n",
       "      <td>0</td>\n",
       "      <td>0</td>\n",
       "      <td>0</td>\n",
       "      <td>0</td>\n",
       "      <td>0</td>\n",
       "      <td>0</td>\n",
       "      <td>0</td>\n",
       "      <td>0</td>\n",
       "      <td>1</td>\n",
       "      <td>7.560601</td>\n",
       "    </tr>\n",
       "    <tr>\n",
       "      <th>9</th>\n",
       "      <td>Oct</td>\n",
       "      <td>1831</td>\n",
       "      <td>0</td>\n",
       "      <td>0</td>\n",
       "      <td>0</td>\n",
       "      <td>0</td>\n",
       "      <td>0</td>\n",
       "      <td>0</td>\n",
       "      <td>0</td>\n",
       "      <td>0</td>\n",
       "      <td>0</td>\n",
       "      <td>0</td>\n",
       "      <td>1</td>\n",
       "      <td>0</td>\n",
       "      <td>7.512618</td>\n",
       "    </tr>\n",
       "    <tr>\n",
       "      <th>10</th>\n",
       "      <td>Nov</td>\n",
       "      <td>2106</td>\n",
       "      <td>0</td>\n",
       "      <td>0</td>\n",
       "      <td>0</td>\n",
       "      <td>0</td>\n",
       "      <td>0</td>\n",
       "      <td>0</td>\n",
       "      <td>0</td>\n",
       "      <td>0</td>\n",
       "      <td>0</td>\n",
       "      <td>1</td>\n",
       "      <td>0</td>\n",
       "      <td>0</td>\n",
       "      <td>7.652546</td>\n",
       "    </tr>\n",
       "    <tr>\n",
       "      <th>11</th>\n",
       "      <td>Dec</td>\n",
       "      <td>2290</td>\n",
       "      <td>0</td>\n",
       "      <td>0</td>\n",
       "      <td>1</td>\n",
       "      <td>0</td>\n",
       "      <td>0</td>\n",
       "      <td>0</td>\n",
       "      <td>0</td>\n",
       "      <td>0</td>\n",
       "      <td>0</td>\n",
       "      <td>0</td>\n",
       "      <td>0</td>\n",
       "      <td>0</td>\n",
       "      <td>7.736307</td>\n",
       "    </tr>\n",
       "  </tbody>\n",
       "</table>\n",
       "</div>"
      ],
      "text/plain": [
       "   Dateofbill  Quantity  Apr  Aug  Dec  Feb  Jan  Jul  Jun  Mar  May  Nov  \\\n",
       "0         Jan      1840    0    0    0    0    1    0    0    0    0    0   \n",
       "1         Feb      1539    0    0    0    1    0    0    0    0    0    0   \n",
       "2         Mar      1948    0    0    0    0    0    0    0    1    0    0   \n",
       "3         Apr      1936    1    0    0    0    0    0    0    0    0    0   \n",
       "4         May      1818    0    0    0    0    0    0    0    0    1    0   \n",
       "5         Jun      1743    0    0    0    0    0    0    1    0    0    0   \n",
       "6         Jul      2008    0    0    0    0    0    1    0    0    0    0   \n",
       "7         Aug      2149    0    1    0    0    0    0    0    0    0    0   \n",
       "8         Sep      1921    0    0    0    0    0    0    0    0    0    0   \n",
       "9         Oct      1831    0    0    0    0    0    0    0    0    0    0   \n",
       "10        Nov      2106    0    0    0    0    0    0    0    0    0    1   \n",
       "11        Dec      2290    0    0    1    0    0    0    0    0    0    0   \n",
       "\n",
       "    Oct  Sep  log_Quantity  \n",
       "0     0    0      7.517521  \n",
       "1     0    0      7.338888  \n",
       "2     0    0      7.574558  \n",
       "3     0    0      7.568379  \n",
       "4     0    0      7.505492  \n",
       "5     0    0      7.463363  \n",
       "6     0    0      7.604894  \n",
       "7     0    0      7.672758  \n",
       "8     0    1      7.560601  \n",
       "9     1    0      7.512618  \n",
       "10    0    0      7.652546  \n",
       "11    0    0      7.736307  "
      ]
     },
     "execution_count": 30,
     "metadata": {},
     "output_type": "execute_result"
    }
   ],
   "source": [
    "# Adding 'log_Quantity' column\n",
    "data['log_Quantity'] = np.log(data['Quantity'])\n",
    "data"
   ]
  },
  {
   "cell_type": "code",
   "execution_count": 31,
   "metadata": {},
   "outputs": [
    {
     "data": {
      "text/html": [
       "<div>\n",
       "<style scoped>\n",
       "    .dataframe tbody tr th:only-of-type {\n",
       "        vertical-align: middle;\n",
       "    }\n",
       "\n",
       "    .dataframe tbody tr th {\n",
       "        vertical-align: top;\n",
       "    }\n",
       "\n",
       "    .dataframe thead th {\n",
       "        text-align: right;\n",
       "    }\n",
       "</style>\n",
       "<table border=\"1\" class=\"dataframe\">\n",
       "  <thead>\n",
       "    <tr style=\"text-align: right;\">\n",
       "      <th></th>\n",
       "      <th>Dateofbill</th>\n",
       "      <th>Quantity</th>\n",
       "      <th>Apr</th>\n",
       "      <th>Aug</th>\n",
       "      <th>Dec</th>\n",
       "      <th>Feb</th>\n",
       "      <th>Jan</th>\n",
       "      <th>Jul</th>\n",
       "      <th>Jun</th>\n",
       "      <th>Mar</th>\n",
       "      <th>May</th>\n",
       "      <th>Nov</th>\n",
       "      <th>Oct</th>\n",
       "      <th>Sep</th>\n",
       "      <th>log_Quantity</th>\n",
       "      <th>t</th>\n",
       "      <th>t_square</th>\n",
       "    </tr>\n",
       "  </thead>\n",
       "  <tbody>\n",
       "    <tr>\n",
       "      <th>0</th>\n",
       "      <td>Jan</td>\n",
       "      <td>1840</td>\n",
       "      <td>0</td>\n",
       "      <td>0</td>\n",
       "      <td>0</td>\n",
       "      <td>0</td>\n",
       "      <td>1</td>\n",
       "      <td>0</td>\n",
       "      <td>0</td>\n",
       "      <td>0</td>\n",
       "      <td>0</td>\n",
       "      <td>0</td>\n",
       "      <td>0</td>\n",
       "      <td>0</td>\n",
       "      <td>7.517521</td>\n",
       "      <td>1</td>\n",
       "      <td>1</td>\n",
       "    </tr>\n",
       "    <tr>\n",
       "      <th>1</th>\n",
       "      <td>Feb</td>\n",
       "      <td>1539</td>\n",
       "      <td>0</td>\n",
       "      <td>0</td>\n",
       "      <td>0</td>\n",
       "      <td>1</td>\n",
       "      <td>0</td>\n",
       "      <td>0</td>\n",
       "      <td>0</td>\n",
       "      <td>0</td>\n",
       "      <td>0</td>\n",
       "      <td>0</td>\n",
       "      <td>0</td>\n",
       "      <td>0</td>\n",
       "      <td>7.338888</td>\n",
       "      <td>2</td>\n",
       "      <td>4</td>\n",
       "    </tr>\n",
       "    <tr>\n",
       "      <th>2</th>\n",
       "      <td>Mar</td>\n",
       "      <td>1948</td>\n",
       "      <td>0</td>\n",
       "      <td>0</td>\n",
       "      <td>0</td>\n",
       "      <td>0</td>\n",
       "      <td>0</td>\n",
       "      <td>0</td>\n",
       "      <td>0</td>\n",
       "      <td>1</td>\n",
       "      <td>0</td>\n",
       "      <td>0</td>\n",
       "      <td>0</td>\n",
       "      <td>0</td>\n",
       "      <td>7.574558</td>\n",
       "      <td>3</td>\n",
       "      <td>9</td>\n",
       "    </tr>\n",
       "    <tr>\n",
       "      <th>3</th>\n",
       "      <td>Apr</td>\n",
       "      <td>1936</td>\n",
       "      <td>1</td>\n",
       "      <td>0</td>\n",
       "      <td>0</td>\n",
       "      <td>0</td>\n",
       "      <td>0</td>\n",
       "      <td>0</td>\n",
       "      <td>0</td>\n",
       "      <td>0</td>\n",
       "      <td>0</td>\n",
       "      <td>0</td>\n",
       "      <td>0</td>\n",
       "      <td>0</td>\n",
       "      <td>7.568379</td>\n",
       "      <td>4</td>\n",
       "      <td>16</td>\n",
       "    </tr>\n",
       "    <tr>\n",
       "      <th>4</th>\n",
       "      <td>May</td>\n",
       "      <td>1818</td>\n",
       "      <td>0</td>\n",
       "      <td>0</td>\n",
       "      <td>0</td>\n",
       "      <td>0</td>\n",
       "      <td>0</td>\n",
       "      <td>0</td>\n",
       "      <td>0</td>\n",
       "      <td>0</td>\n",
       "      <td>1</td>\n",
       "      <td>0</td>\n",
       "      <td>0</td>\n",
       "      <td>0</td>\n",
       "      <td>7.505492</td>\n",
       "      <td>5</td>\n",
       "      <td>25</td>\n",
       "    </tr>\n",
       "    <tr>\n",
       "      <th>5</th>\n",
       "      <td>Jun</td>\n",
       "      <td>1743</td>\n",
       "      <td>0</td>\n",
       "      <td>0</td>\n",
       "      <td>0</td>\n",
       "      <td>0</td>\n",
       "      <td>0</td>\n",
       "      <td>0</td>\n",
       "      <td>1</td>\n",
       "      <td>0</td>\n",
       "      <td>0</td>\n",
       "      <td>0</td>\n",
       "      <td>0</td>\n",
       "      <td>0</td>\n",
       "      <td>7.463363</td>\n",
       "      <td>6</td>\n",
       "      <td>36</td>\n",
       "    </tr>\n",
       "    <tr>\n",
       "      <th>6</th>\n",
       "      <td>Jul</td>\n",
       "      <td>2008</td>\n",
       "      <td>0</td>\n",
       "      <td>0</td>\n",
       "      <td>0</td>\n",
       "      <td>0</td>\n",
       "      <td>0</td>\n",
       "      <td>1</td>\n",
       "      <td>0</td>\n",
       "      <td>0</td>\n",
       "      <td>0</td>\n",
       "      <td>0</td>\n",
       "      <td>0</td>\n",
       "      <td>0</td>\n",
       "      <td>7.604894</td>\n",
       "      <td>7</td>\n",
       "      <td>49</td>\n",
       "    </tr>\n",
       "    <tr>\n",
       "      <th>7</th>\n",
       "      <td>Aug</td>\n",
       "      <td>2149</td>\n",
       "      <td>0</td>\n",
       "      <td>1</td>\n",
       "      <td>0</td>\n",
       "      <td>0</td>\n",
       "      <td>0</td>\n",
       "      <td>0</td>\n",
       "      <td>0</td>\n",
       "      <td>0</td>\n",
       "      <td>0</td>\n",
       "      <td>0</td>\n",
       "      <td>0</td>\n",
       "      <td>0</td>\n",
       "      <td>7.672758</td>\n",
       "      <td>8</td>\n",
       "      <td>64</td>\n",
       "    </tr>\n",
       "    <tr>\n",
       "      <th>8</th>\n",
       "      <td>Sep</td>\n",
       "      <td>1921</td>\n",
       "      <td>0</td>\n",
       "      <td>0</td>\n",
       "      <td>0</td>\n",
       "      <td>0</td>\n",
       "      <td>0</td>\n",
       "      <td>0</td>\n",
       "      <td>0</td>\n",
       "      <td>0</td>\n",
       "      <td>0</td>\n",
       "      <td>0</td>\n",
       "      <td>0</td>\n",
       "      <td>1</td>\n",
       "      <td>7.560601</td>\n",
       "      <td>9</td>\n",
       "      <td>81</td>\n",
       "    </tr>\n",
       "    <tr>\n",
       "      <th>9</th>\n",
       "      <td>Oct</td>\n",
       "      <td>1831</td>\n",
       "      <td>0</td>\n",
       "      <td>0</td>\n",
       "      <td>0</td>\n",
       "      <td>0</td>\n",
       "      <td>0</td>\n",
       "      <td>0</td>\n",
       "      <td>0</td>\n",
       "      <td>0</td>\n",
       "      <td>0</td>\n",
       "      <td>0</td>\n",
       "      <td>1</td>\n",
       "      <td>0</td>\n",
       "      <td>7.512618</td>\n",
       "      <td>10</td>\n",
       "      <td>100</td>\n",
       "    </tr>\n",
       "    <tr>\n",
       "      <th>10</th>\n",
       "      <td>Nov</td>\n",
       "      <td>2106</td>\n",
       "      <td>0</td>\n",
       "      <td>0</td>\n",
       "      <td>0</td>\n",
       "      <td>0</td>\n",
       "      <td>0</td>\n",
       "      <td>0</td>\n",
       "      <td>0</td>\n",
       "      <td>0</td>\n",
       "      <td>0</td>\n",
       "      <td>1</td>\n",
       "      <td>0</td>\n",
       "      <td>0</td>\n",
       "      <td>7.652546</td>\n",
       "      <td>11</td>\n",
       "      <td>121</td>\n",
       "    </tr>\n",
       "    <tr>\n",
       "      <th>11</th>\n",
       "      <td>Dec</td>\n",
       "      <td>2290</td>\n",
       "      <td>0</td>\n",
       "      <td>0</td>\n",
       "      <td>1</td>\n",
       "      <td>0</td>\n",
       "      <td>0</td>\n",
       "      <td>0</td>\n",
       "      <td>0</td>\n",
       "      <td>0</td>\n",
       "      <td>0</td>\n",
       "      <td>0</td>\n",
       "      <td>0</td>\n",
       "      <td>0</td>\n",
       "      <td>7.736307</td>\n",
       "      <td>12</td>\n",
       "      <td>144</td>\n",
       "    </tr>\n",
       "  </tbody>\n",
       "</table>\n",
       "</div>"
      ],
      "text/plain": [
       "   Dateofbill  Quantity  Apr  Aug  Dec  Feb  Jan  Jul  Jun  Mar  May  Nov  \\\n",
       "0         Jan      1840    0    0    0    0    1    0    0    0    0    0   \n",
       "1         Feb      1539    0    0    0    1    0    0    0    0    0    0   \n",
       "2         Mar      1948    0    0    0    0    0    0    0    1    0    0   \n",
       "3         Apr      1936    1    0    0    0    0    0    0    0    0    0   \n",
       "4         May      1818    0    0    0    0    0    0    0    0    1    0   \n",
       "5         Jun      1743    0    0    0    0    0    0    1    0    0    0   \n",
       "6         Jul      2008    0    0    0    0    0    1    0    0    0    0   \n",
       "7         Aug      2149    0    1    0    0    0    0    0    0    0    0   \n",
       "8         Sep      1921    0    0    0    0    0    0    0    0    0    0   \n",
       "9         Oct      1831    0    0    0    0    0    0    0    0    0    0   \n",
       "10        Nov      2106    0    0    0    0    0    0    0    0    0    1   \n",
       "11        Dec      2290    0    0    1    0    0    0    0    0    0    0   \n",
       "\n",
       "    Oct  Sep  log_Quantity   t  t_square  \n",
       "0     0    0      7.517521   1         1  \n",
       "1     0    0      7.338888   2         4  \n",
       "2     0    0      7.574558   3         9  \n",
       "3     0    0      7.568379   4        16  \n",
       "4     0    0      7.505492   5        25  \n",
       "5     0    0      7.463363   6        36  \n",
       "6     0    0      7.604894   7        49  \n",
       "7     0    0      7.672758   8        64  \n",
       "8     0    1      7.560601   9        81  \n",
       "9     1    0      7.512618  10       100  \n",
       "10    0    0      7.652546  11       121  \n",
       "11    0    0      7.736307  12       144  "
      ]
     },
     "execution_count": 31,
     "metadata": {},
     "output_type": "execute_result"
    }
   ],
   "source": [
    "# Adding 't' and 't_square' columns\n",
    "data[\"t\"] = np.arange(1,13)\n",
    "data[\"t_square\"] = data[\"t\"] * data[\"t\"]\n",
    "data"
   ]
  },
  {
   "cell_type": "markdown",
   "metadata": {},
   "source": [
    "# Model Building"
   ]
  },
  {
   "cell_type": "markdown",
   "metadata": {},
   "source": [
    "In this code, a predictive modeling process is being performed on a dataset. The goal is to build different regression models to predict the \"Quantity\" based on the variable \"t\" using different mathematical functions. The code uses Python with libraries like statsmodels, pandas, and numpy for the analysis.\n",
    "\n",
    "Here's a summary of what's happening:\n",
    "\n",
    "1. **Data Partition:** The dataset is split into two parts, \"Train\" and \"Test.\" Typically, the training set is used to build the models, and the test set is used to evaluate the model's performance.\n",
    "\n",
    "2. **Linear Model:**\n",
    "   - A linear regression model is built using Ordinary Least Squares (OLS) from the `statsmodels` library.\n",
    "   - The formula 'Quantity ~ t' specifies that \"Quantity\" is predicted based on the \"t\" variable.\n",
    "   - The model is trained using the \"Train\" dataset.\n",
    "   - The model is pickled (serialized) and saved to a file named 'linear_model.pkl.'\n",
    "   - Predictions are made on the test set using the trained model.\n",
    "   - Mean Absolute Percentage Error (MAPE) is calculated to evaluate the model's accuracy. MAPE measures the accuracy of a forecasting method.\n",
    "   - The MAPE for the linear model is approximately 4.57%.\n",
    "\n",
    "3. **Exponential Model:**\n",
    "   - An exponential regression model is built.\n",
    "   - Instead of using \"Quantity\" as is, the model uses the natural logarithm of \"Quantity\" (log_Quantity) as the dependent variable to perform exponential regression.\n",
    "   - The model is trained and used to make predictions on the test set.\n",
    "   - MAPE is calculated for the exponential model, which is approximately 4.55%.\n",
    "\n",
    "4. **Quadratic Model:**\n",
    "   - A quadratic regression model is built, which allows for a more complex relationship between \"Quantity\" and \"t.\"\n",
    "   - The formula 'Quantity ~ t + t_square' includes both \"t\" and the square of \"t\" as predictors.\n",
    "   - The model is trained and used to make predictions on the test set.\n",
    "   - MAPE is calculated for the quadratic model, which is approximately 4.93%.\n",
    "\n",
    "5. **Additive Seasonality:**\n",
    "   - An additive regression model is built to analyze seasonality.\n",
    "   - The formula 'Quantity ~ Jan+Feb+Mar+Apr+May+Jun+Jul+Aug+Sep+Oct+Nov+Dec' includes indicator variables for each month.\n",
    "   - The model is trained and used to make predictions on the test set.\n",
    "   - MAPE is calculated for this additive seasonality model, resulting in a very small value (approximately 4.61e-14). This suggests that the model fits the data well, indicating the presence of seasonality.\n",
    "\n",
    "6. **Multiplicative Seasonality:**\n",
    "   - A multiplicative regression model is built. This model includes the natural logarithm of \"Quantity\" as the dependent variable, allowing for multiplicative seasonality.\n",
    "   - The model is trained and used to make predictions on the test set.\n",
    "   - MAPE is calculated for the multiplicative seasonality model, resulting in a very small value (approximately 3.88e-13). This also indicates a good fit and the presence of seasonality.\n",
    "\n",
    "7. **Additive Seasonality Quadratic Trend:**\n",
    "   - An additive regression model is built with both seasonality (monthly indicators) and a quadratic trend.\n",
    "   - The formula 'Quantity ~ t+t_square+Jan+Feb+Mar+Apr+May+Jun+Jul+Aug+Sep+Oct+Nov+Dec' includes time-related variables along with monthly indicators.\n",
    "   - The model is trained and used to make predictions on the test set.\n",
    "   - MAPE is calculated for this model, resulting in a very small value (approximately 4.68e-13). This suggests that the model captures both seasonality and trend effects.\n",
    "\n",
    "8. **Multiplicative Seasonality Linear Trend:**\n",
    "   - A multiplicative regression model is built with a linear trend and seasonality.\n",
    "   - The formula 'log_Quantity ~ t+Jan+Feb+Mar+Apr+May+Jun+Jul+Aug+Sep+Oct+Nov+Dec' includes a linear time trend along with monthly indicators.\n",
    "   - The model is trained and used to make predictions on the test set.\n",
    "   - MAPE is calculated for this model, resulting in a very small value (approximately 1.34e-12). This indicates that the model effectively captures both seasonality and a linear trend.\n",
    "\n",
    "Overall, these models aim to understand the impact of seasonality and trend on the \"Quantity\" variable, and they appear to fit the data well, as suggested by the low MAPE values. The specific choice between additive and multiplicative models and the inclusion of trends depends on the characteristics of the data and the research question being addressed.\n",
    "The purpose of this code is to compare the performance of different regression models (linear, exponential, and quadratic) in predicting \"Quantity\" using the given predictor variable \"t\" and to assess their accuracy using MAPE. These models provide different ways to understand and represent the relationship between \"Quantity\" and \"t.\""
   ]
  },
  {
   "cell_type": "markdown",
   "metadata": {},
   "source": [
    "### Linear"
   ]
  },
  {
   "cell_type": "code",
   "execution_count": 32,
   "metadata": {},
   "outputs": [],
   "source": [
    "# Data Partition\n",
    "Train = data\n",
    "Test = data"
   ]
  },
  {
   "cell_type": "code",
   "execution_count": 33,
   "metadata": {},
   "outputs": [],
   "source": [
    "import statsmodels.formula.api as smf\n",
    "\n",
    "linear = smf.ols('Quantity ~ t', data = Train).fit()\n",
    "pickle.dump(linear,open('linear_model.pkl','wb'))"
   ]
  },
  {
   "cell_type": "code",
   "execution_count": 34,
   "metadata": {},
   "outputs": [
    {
     "data": {
      "text/plain": [
       "6.831726447901011"
      ]
     },
     "execution_count": 34,
     "metadata": {},
     "output_type": "execute_result"
    }
   ],
   "source": [
    "pred_linear =  pd.Series(linear.predict(pd.DataFrame(Test['t'])))\n",
    "mape_linear = np.mean(np.abs((Test['Quantity'] - (pred_linear)) / Test['Quantity'])) * 100\n",
    "mape_linear"
   ]
  },
  {
   "cell_type": "markdown",
   "metadata": {},
   "source": [
    "### Exponential"
   ]
  },
  {
   "cell_type": "code",
   "execution_count": 35,
   "metadata": {},
   "outputs": [],
   "source": [
    "Exponential = smf.ols('log_Quantity ~ t', data = Train).fit()\n",
    "pred_Exponential = pd.Series(Exponential.predict(pd.DataFrame(Test['t'])))"
   ]
  },
  {
   "cell_type": "code",
   "execution_count": 36,
   "metadata": {},
   "outputs": [
    {
     "data": {
      "text/plain": [
       "6.807144213067417"
      ]
     },
     "execution_count": 36,
     "metadata": {},
     "output_type": "execute_result"
    }
   ],
   "source": [
    "mape_Exponential = np.mean(np.abs((Test['Quantity'] - np.exp(pred_Exponential)) / Test['Quantity'])) * 100\n",
    "mape_Exponential"
   ]
  },
  {
   "cell_type": "markdown",
   "metadata": {},
   "source": [
    "### Quadratic"
   ]
  },
  {
   "cell_type": "code",
   "execution_count": 37,
   "metadata": {},
   "outputs": [],
   "source": [
    "Quadratic = smf.ols('Quantity ~ t + t_square', data = Train).fit()\n",
    "pred_Quadratic = pd.Series(Quadratic.predict(Test[[\"t\", \"t_square\"]]))"
   ]
  },
  {
   "cell_type": "code",
   "execution_count": 38,
   "metadata": {},
   "outputs": [
    {
     "data": {
      "text/plain": [
       "6.497563708237382"
      ]
     },
     "execution_count": 38,
     "metadata": {},
     "output_type": "execute_result"
    }
   ],
   "source": [
    "mape_Quadratic = np.mean(np.abs((Test['Quantity'] - (pred_Quadratic)) / Test['Quantity'])) * 100\n",
    "mape_Quadratic"
   ]
  },
  {
   "cell_type": "markdown",
   "metadata": {},
   "source": [
    "### Additive Seasonality"
   ]
  },
  {
   "cell_type": "code",
   "execution_count": 39,
   "metadata": {},
   "outputs": [],
   "source": [
    "addSeasonality = smf.ols('Quantity ~ Jan+Feb+Mar+Apr+May+Jun+Jul+Aug+Sep+Oct+Nov+Dec', data=Train).fit()\n",
    "pred_addSeasonality = pd.Series(addSeasonality.predict(Test[['Jan','Feb','Mar','Apr','May','Jun','Jul','Aug','Sep','Oct','Nov','Dec']]))"
   ]
  },
  {
   "cell_type": "code",
   "execution_count": 40,
   "metadata": {},
   "outputs": [
    {
     "data": {
      "text/plain": [
       "4.166793298300165e-14"
      ]
     },
     "execution_count": 40,
     "metadata": {},
     "output_type": "execute_result"
    }
   ],
   "source": [
    "mape_addSeasonality = np.mean(np.abs((Test['Quantity'] - (pred_addSeasonality)) / Test['Quantity'])) * 100\n",
    "mape_addSeasonality"
   ]
  },
  {
   "cell_type": "markdown",
   "metadata": {},
   "source": [
    "### Multiplicative Seasonality"
   ]
  },
  {
   "cell_type": "code",
   "execution_count": 41,
   "metadata": {},
   "outputs": [
    {
     "data": {
      "text/plain": [
       "2.558513156054957e-13"
      ]
     },
     "execution_count": 41,
     "metadata": {},
     "output_type": "execute_result"
    }
   ],
   "source": [
    "MulSeasonality = smf.ols('log_Quantity ~ Jan+Feb+Mar+Apr+May+Jun+Jul+Aug+Sep+Oct+Nov+Dec',data = Train).fit()\n",
    "pred_MultSeasonality = pd.Series(MulSeasonality.predict(Test))\n",
    "mape_MultSeasonality = np.mean(np.abs((Test['Quantity'] - np.exp(pred_MultSeasonality)) / Test['Quantity'])) * 100\n",
    "mape_MultSeasonality"
   ]
  },
  {
   "cell_type": "markdown",
   "metadata": {},
   "source": [
    "##### Additive Seasonality Quadratic Trend"
   ]
  },
  {
   "cell_type": "code",
   "execution_count": 42,
   "metadata": {},
   "outputs": [
    {
     "data": {
      "text/plain": [
       "5.248545121121444e-13"
      ]
     },
     "execution_count": 42,
     "metadata": {},
     "output_type": "execute_result"
    }
   ],
   "source": [
    "add_seaQuadratic = smf.ols('Quantity ~ t+t_square+Jan+Feb+Mar+Apr+May+Jun+Jul+Aug+Sep+Oct+Nov+Dec',data=Train).fit()\n",
    "pred_add_seaQuadratic = pd.Series(add_seaQuadratic.predict(Test[['Apr', 'Aug', 'Dec', 'Feb', 'Jan', 'Jul', 'Jun', 'Mar', 'May', 'Nov' , 'Oct' , 'Sep' ,'t','t_square']]))\n",
    "mape_add_seaQuadratic = np.mean(np.abs((Test['Quantity'] - (pred_add_seaQuadratic)) / Test['Quantity'])) * 100\n",
    "mape_add_seaQuadratic"
   ]
  },
  {
   "cell_type": "markdown",
   "metadata": {},
   "source": [
    "### Multiplicative Seasonality Linear Trend"
   ]
  },
  {
   "cell_type": "code",
   "execution_count": 43,
   "metadata": {},
   "outputs": [],
   "source": [
    "Mul_SeasonalityLinear = smf.ols('log_Quantity ~ t+Jan+Feb+Mar+Apr+May+Jun+Jul+Aug+Sep+Oct+Nov+Dec',data = Train).fit()\n",
    "pred_MultSeasonalityLinear = pd.Series(Mul_SeasonalityLinear.predict(Test))"
   ]
  },
  {
   "cell_type": "code",
   "execution_count": 44,
   "metadata": {},
   "outputs": [
    {
     "data": {
      "text/plain": [
       "1.3074185172855868e-12"
      ]
     },
     "execution_count": 44,
     "metadata": {},
     "output_type": "execute_result"
    }
   ],
   "source": [
    "mape_MultSeasonalityLinear = np.mean(np.abs((Test['Quantity'] - np.exp(pred_MultSeasonalityLinear)) / Test['Quantity'])) * 100\n",
    "mape_MultSeasonalityLinear"
   ]
  },
  {
   "cell_type": "code",
   "execution_count": 45,
   "metadata": {},
   "outputs": [
    {
     "data": {
      "text/html": [
       "<div>\n",
       "<style scoped>\n",
       "    .dataframe tbody tr th:only-of-type {\n",
       "        vertical-align: middle;\n",
       "    }\n",
       "\n",
       "    .dataframe tbody tr th {\n",
       "        vertical-align: top;\n",
       "    }\n",
       "\n",
       "    .dataframe thead th {\n",
       "        text-align: right;\n",
       "    }\n",
       "</style>\n",
       "<table border=\"1\" class=\"dataframe\">\n",
       "  <thead>\n",
       "    <tr style=\"text-align: right;\">\n",
       "      <th></th>\n",
       "      <th>MODEL</th>\n",
       "      <th>MAPE_Values</th>\n",
       "    </tr>\n",
       "  </thead>\n",
       "  <tbody>\n",
       "    <tr>\n",
       "      <th>0</th>\n",
       "      <td>mape_linear</td>\n",
       "      <td>6.831726e+00</td>\n",
       "    </tr>\n",
       "    <tr>\n",
       "      <th>1</th>\n",
       "      <td>mape_Exponential</td>\n",
       "      <td>6.807144e+00</td>\n",
       "    </tr>\n",
       "    <tr>\n",
       "      <th>2</th>\n",
       "      <td>mape_Quadratic</td>\n",
       "      <td>6.497564e+00</td>\n",
       "    </tr>\n",
       "    <tr>\n",
       "      <th>3</th>\n",
       "      <td>mape_addSeasonality</td>\n",
       "      <td>4.166793e-14</td>\n",
       "    </tr>\n",
       "    <tr>\n",
       "      <th>4</th>\n",
       "      <td>mape_MultSeasonality</td>\n",
       "      <td>2.558513e-13</td>\n",
       "    </tr>\n",
       "    <tr>\n",
       "      <th>5</th>\n",
       "      <td>mape_add_seaQuadratic</td>\n",
       "      <td>5.248545e-13</td>\n",
       "    </tr>\n",
       "    <tr>\n",
       "      <th>6</th>\n",
       "      <td>mape_MultSeasonalityLinear</td>\n",
       "      <td>1.307419e-12</td>\n",
       "    </tr>\n",
       "  </tbody>\n",
       "</table>\n",
       "</div>"
      ],
      "text/plain": [
       "                        MODEL   MAPE_Values\n",
       "0                 mape_linear  6.831726e+00\n",
       "1            mape_Exponential  6.807144e+00\n",
       "2              mape_Quadratic  6.497564e+00\n",
       "3         mape_addSeasonality  4.166793e-14\n",
       "4        mape_MultSeasonality  2.558513e-13\n",
       "5       mape_add_seaQuadratic  5.248545e-13\n",
       "6  mape_MultSeasonalityLinear  1.307419e-12"
      ]
     },
     "execution_count": 45,
     "metadata": {},
     "output_type": "execute_result"
    }
   ],
   "source": [
    "# Printing every model's MAPE value\n",
    "data1 = {\"MODEL\":pd.Series([\"mape_linear\",\"mape_Exponential\",\"mape_Quadratic\",\"mape_addSeasonality\",\"mape_MultSeasonality\",\"mape_add_seaQuadratic\",\"mape_MultSeasonalityLinear\"]),\"MAPE_Values\":pd.Series([mape_linear,mape_Exponential,mape_Quadratic,mape_addSeasonality,mape_MultSeasonality,mape_add_seaQuadratic,mape_MultSeasonalityLinear])}\n",
    "table_mape = pd.DataFrame(data1)\n",
    "table_mape"
   ]
  },
  {
   "cell_type": "code",
   "execution_count": 46,
   "metadata": {},
   "outputs": [],
   "source": [
    "# Model fit\n",
    "model_full = smf.ols('Quantity ~ t+t_square+Jan+Feb+Mar+Apr+May+Jun+Jul+Aug+Sep+Oct+Nov+Dec',data=Train).fit()"
   ]
  },
  {
   "cell_type": "code",
   "execution_count": 47,
   "metadata": {},
   "outputs": [
    {
     "data": {
      "text/plain": [
       "0     1840.0\n",
       "1     1539.0\n",
       "2     1948.0\n",
       "3     1936.0\n",
       "4     1818.0\n",
       "5     1743.0\n",
       "6     2008.0\n",
       "7     2149.0\n",
       "8     1921.0\n",
       "9     1831.0\n",
       "10    2106.0\n",
       "11    2290.0\n",
       "dtype: float64"
      ]
     },
     "execution_count": 47,
     "metadata": {},
     "output_type": "execute_result"
    }
   ],
   "source": [
    "# Printing pred_new\n",
    "predict_data = data\n",
    "pred_new  = pd.Series(model_full.predict(predict_data))\n",
    "pred_new"
   ]
  },
  {
   "cell_type": "code",
   "execution_count": 48,
   "metadata": {},
   "outputs": [],
   "source": [
    "# Prediction\n",
    "predict_data[\"forecasted_Quantity\"] = pd.Series(pred_new)"
   ]
  },
  {
   "cell_type": "code",
   "execution_count": 49,
   "metadata": {},
   "outputs": [],
   "source": [
    "# Save modekl\n",
    "model_full.save(\"model.pickle\")"
   ]
  },
  {
   "cell_type": "code",
   "execution_count": 50,
   "metadata": {},
   "outputs": [],
   "source": [
    "# Load model\n",
    "from statsmodels.regression.linear_model import OLSResults\n",
    "model = OLSResults.load(\"model.pickle\")"
   ]
  },
  {
   "cell_type": "markdown",
   "metadata": {},
   "source": [
    "# Autoregression Model"
   ]
  },
  {
   "cell_type": "markdown",
   "metadata": {},
   "source": [
    "An autoregression model, often referred to as an autoregressive model or simply an AR model, is a fundamental time series forecasting technique used in statistics and econometrics. This model assumes that a variable's value is linearly related to its past values. In other words, it predicts a variable's future value based on its own previous values, making it a form of a self-regression. Autoregression models are widely used in various fields, including finance, economics, and climate science, to capture and predict time-dependent patterns and dependencies in data. They provide a valuable tool for understanding and forecasting sequential data points, making them essential in time series analysis and prediction."
   ]
  },
  {
   "cell_type": "code",
   "execution_count": 51,
   "metadata": {},
   "outputs": [],
   "source": [
    "# Calculating Residuals from best model applied on full data\n",
    "# AV - FV\n",
    "full_res = data.Quantity - model_full.predict(data)"
   ]
  },
  {
   "cell_type": "markdown",
   "metadata": {},
   "source": [
    "This code snippet utilizes the `statsmodels` library for time series analysis and forecasting. It first creates autocorrelation and partial autocorrelation plots for the time series data stored in the variable `full_res`, with a specific number of lags specified. Autocorrelation and partial autocorrelation plots help analyze the correlation between a time series and its past observations, which is essential for determining appropriate parameters for time series models like ARIMA (AutoRegressive Integrated Moving Average). These plots are valuable in understanding and selecting the order of differencing and lag values for the ARIMA model to ensure accurate time series forecasting."
   ]
  },
  {
   "cell_type": "code",
   "execution_count": 52,
   "metadata": {},
   "outputs": [
    {
     "data": {
      "image/png": "[encoded data removed]",
      "text/plain": [
       "<Figure size 640x480 with 1 Axes>"
      ]
     },
     "execution_count": 52,
     "metadata": {},
     "output_type": "execute_result"
    },
    {
     "data": {
      "image/png": "[encoded data removed]",
      "text/plain": [
       "<Figure size 640x480 with 1 Axes>"
      ]
     },
     "metadata": {},
     "output_type": "display_data"
    },
    {
     "data": {
      "image/png": "[encoded data removed]",
      "text/plain": [
       "<Figure size 640x480 with 1 Axes>"
      ]
     },
     "metadata": {},
     "output_type": "display_data"
    }
   ],
   "source": [
    "import statsmodels.graphics.tsaplots as tsa_plots\n",
    "from statsmodels.tsa.arima.model import ARIMA\n",
    "'''\n",
    "The code generates autocorrelation and partial autocorrelation plots for time series data to analyze its correlation\n",
    "with past observations, aiding in parameter selection for time series modeling, such as ARIMA, which is essential for\n",
    "accurate forecasting.\n",
    "'''\n",
    "tsa_plots.plot_acf(full_res, lags = 11)\n",
    "tsa_plots.plot_pacf(full_res, lags = 5 )"
   ]
  },
  {
   "cell_type": "markdown",
   "metadata": {},
   "source": [
    "In this code, an autoregressive (AR) model is implemented using the AutoReg function from statsmodels. It's applied to the full_res time series data with a lag of 1. The coefficients of the model are printed, and predictions are generated for a specific range in the future. The final predictions are calculated by combining these AR model predictions with other predictions, likely from another model."
   ]
  },
  {
   "cell_type": "code",
   "execution_count": 53,
   "metadata": {},
   "outputs": [
    {
     "name": "stdout",
     "output_type": "stream",
     "text": [
      "Coefficients: const    5.448005e-12\n",
      "y.L1     6.147899e-01\n",
      "dtype: float64\n"
     ]
    },
    {
     "data": {
      "text/plain": [
       "0     1840.0\n",
       "1     1539.0\n",
       "2     1948.0\n",
       "3     1936.0\n",
       "4     1818.0\n",
       "5     1743.0\n",
       "6     2008.0\n",
       "7     2149.0\n",
       "8     1921.0\n",
       "9     1831.0\n",
       "10    2106.0\n",
       "11    2290.0\n",
       "dtype: float64"
      ]
     },
     "execution_count": 53,
     "metadata": {},
     "output_type": "execute_result"
    }
   ],
   "source": [
    "# AR model\n",
    "from statsmodels.tsa.ar_model import AutoReg\n",
    "model_ar = AutoReg(full_res, lags=[1])\n",
    "\n",
    "# model_ar = AutoReg(Train_res, lags=12)\n",
    "model_fit = model_ar.fit()\n",
    "\n",
    "print('Coefficients: %s' % model_fit.params)\n",
    "\n",
    "pred_res = model_fit.predict(start=len(full_res), end=len(full_res)+len(predict_data)-1, dynamic=False)\n",
    "pred_res.reset_index(drop=True, inplace=True)\n",
    "\n",
    "# The Final Predictions using ASQT and AR(1) Model\n",
    "final_pred = pred_new + pred_res\n",
    "final_pred"
   ]
  },
  {
   "cell_type": "markdown",
   "metadata": {},
   "source": [
    "# Arima Model"
   ]
  },
  {
   "cell_type": "markdown",
   "metadata": {},
   "source": [
    "The ARIMA (AutoRegressive Integrated Moving Average) model is a powerful time series forecasting method. It combines autoregressive (AR), differencing (I), and moving average (MA) components to capture different aspects of a time series. The AR component models the relationship between an observation and its lagged values, the differencing component makes the time series stationary, and the MA component models the relationship between an observation and a residual error from a moving average model. ARIMA models are widely used for forecasting because they can handle a wide range of time series data patterns and seasonality."
   ]
  },
  {
   "cell_type": "code",
   "execution_count": 54,
   "metadata": {},
   "outputs": [
    {
     "data": {
      "text/html": [
       "<div>\n",
       "<style scoped>\n",
       "    .dataframe tbody tr th:only-of-type {\n",
       "        vertical-align: middle;\n",
       "    }\n",
       "\n",
       "    .dataframe tbody tr th {\n",
       "        vertical-align: top;\n",
       "    }\n",
       "\n",
       "    .dataframe thead th {\n",
       "        text-align: right;\n",
       "    }\n",
       "</style>\n",
       "<table border=\"1\" class=\"dataframe\">\n",
       "  <thead>\n",
       "    <tr style=\"text-align: right;\">\n",
       "      <th></th>\n",
       "      <th>Dateofbill</th>\n",
       "      <th>Quantity</th>\n",
       "    </tr>\n",
       "  </thead>\n",
       "  <tbody>\n",
       "    <tr>\n",
       "      <th>0</th>\n",
       "      <td>Jan</td>\n",
       "      <td>1840</td>\n",
       "    </tr>\n",
       "    <tr>\n",
       "      <th>1</th>\n",
       "      <td>Feb</td>\n",
       "      <td>1539</td>\n",
       "    </tr>\n",
       "    <tr>\n",
       "      <th>2</th>\n",
       "      <td>Mar</td>\n",
       "      <td>1948</td>\n",
       "    </tr>\n",
       "    <tr>\n",
       "      <th>3</th>\n",
       "      <td>Apr</td>\n",
       "      <td>1936</td>\n",
       "    </tr>\n",
       "    <tr>\n",
       "      <th>4</th>\n",
       "      <td>May</td>\n",
       "      <td>1818</td>\n",
       "    </tr>\n",
       "    <tr>\n",
       "      <th>5</th>\n",
       "      <td>Jun</td>\n",
       "      <td>1743</td>\n",
       "    </tr>\n",
       "    <tr>\n",
       "      <th>6</th>\n",
       "      <td>Jul</td>\n",
       "      <td>2008</td>\n",
       "    </tr>\n",
       "    <tr>\n",
       "      <th>7</th>\n",
       "      <td>Aug</td>\n",
       "      <td>2149</td>\n",
       "    </tr>\n",
       "    <tr>\n",
       "      <th>8</th>\n",
       "      <td>Sep</td>\n",
       "      <td>1921</td>\n",
       "    </tr>\n",
       "    <tr>\n",
       "      <th>9</th>\n",
       "      <td>Oct</td>\n",
       "      <td>1831</td>\n",
       "    </tr>\n",
       "    <tr>\n",
       "      <th>10</th>\n",
       "      <td>Nov</td>\n",
       "      <td>2106</td>\n",
       "    </tr>\n",
       "    <tr>\n",
       "      <th>11</th>\n",
       "      <td>Dec</td>\n",
       "      <td>2290</td>\n",
       "    </tr>\n",
       "  </tbody>\n",
       "</table>\n",
       "</div>"
      ],
      "text/plain": [
       "   Dateofbill  Quantity\n",
       "0         Jan      1840\n",
       "1         Feb      1539\n",
       "2         Mar      1948\n",
       "3         Apr      1936\n",
       "4         May      1818\n",
       "5         Jun      1743\n",
       "6         Jul      2008\n",
       "7         Aug      2149\n",
       "8         Sep      1921\n",
       "9         Oct      1831\n",
       "10        Nov      2106\n",
       "11        Dec      2290"
      ]
     },
     "execution_count": 54,
     "metadata": {},
     "output_type": "execute_result"
    }
   ],
   "source": [
    "# Train/Test data\n",
    "train = df_grouped\n",
    "test= df_grouped\n",
    "train"
   ]
  },
  {
   "cell_type": "code",
   "execution_count": 55,
   "metadata": {},
   "outputs": [
    {
     "data": {
      "image/png": "[encoded data removed]",
      "text/plain": [
       "<Figure size 640x480 with 1 Axes>"
      ]
     },
     "execution_count": 55,
     "metadata": {},
     "output_type": "execute_result"
    },
    {
     "data": {
      "image/png": "[encoded data removed]",
      "text/plain": [
       "<Figure size 640x480 with 1 Axes>"
      ]
     },
     "metadata": {},
     "output_type": "display_data"
    },
    {
     "data": {
      "image/png": "[encoded data removed]",
      "text/plain": [
       "<Figure size 640x480 with 1 Axes>"
      ]
     },
     "metadata": {},
     "output_type": "display_data"
    }
   ],
   "source": [
    "# Plotting graphs\n",
    "tsa_plots.plot_acf(full_res, lags = 11)\n",
    "tsa_plots.plot_pacf(full_res, lags = 5 )"
   ]
  },
  {
   "cell_type": "markdown",
   "metadata": {},
   "source": [
    "This code segment is fitting an ARIMA (AutoRegressive Integrated Moving Average) model to a training dataset, specifically with an order of (5, 1, 2). The (5, 1, 2) order indicates that the model includes autoregressive terms of order 5, one order of differencing, and moving average terms of order 2. After fitting the model, it generates a summary report of the results. This summary provides information about the model's performance and statistics, which are essential for evaluating the model's goodness of fit and forecasting accuracy."
   ]
  },
  {
   "cell_type": "code",
   "execution_count": 56,
   "metadata": {},
   "outputs": [
    {
     "data": {
      "text/html": [
       "<table class=\"simpletable\">\n",
       "<caption>SARIMAX Results</caption>\n",
       "<tr>\n",
       "  <th>Dep. Variable:</th>       <td>Quantity</td>     <th>  No. Observations:  </th>   <td>12</td>  \n",
       "</tr>\n",
       "<tr>\n",
       "  <th>Model:</th>            <td>ARIMA(5, 1, 2)</td>  <th>  Log Likelihood     </th>  <td>0.000</td>\n",
       "</tr>\n",
       "<tr>\n",
       "  <th>Date:</th>            <td>Thu, 26 Oct 2023</td> <th>  AIC                </th> <td>16.000</td>\n",
       "</tr>\n",
       "<tr>\n",
       "  <th>Time:</th>                <td>09:51:01</td>     <th>  BIC                </th> <td>19.183</td>\n",
       "</tr>\n",
       "<tr>\n",
       "  <th>Sample:</th>                  <td>0</td>        <th>  HQIC               </th> <td>13.993</td>\n",
       "</tr>\n",
       "<tr>\n",
       "  <th></th>                       <td> - 12</td>      <th>                     </th>    <td> </td>  \n",
       "</tr>\n",
       "<tr>\n",
       "  <th>Covariance Type:</th>        <td>opg</td>       <th>                     </th>    <td> </td>  \n",
       "</tr>\n",
       "</table>\n",
       "<table class=\"simpletable\">\n",
       "<tr>\n",
       "     <td></td>       <th>coef</th>     <th>std err</th>      <th>z</th>      <th>P>|z|</th>  <th>[0.025</th>    <th>0.975]</th>  \n",
       "</tr>\n",
       "<tr>\n",
       "  <th>ar.L1</th>  <td>   -2.8189</td> <td>       -0</td> <td>      inf</td> <td> 0.000</td> <td>   -2.819</td> <td>   -2.819</td>\n",
       "</tr>\n",
       "<tr>\n",
       "  <th>ar.L2</th>  <td>   -1.8189</td> <td> 6.79e-08</td> <td>-2.68e+07</td> <td> 0.000</td> <td>   -1.819</td> <td>   -1.819</td>\n",
       "</tr>\n",
       "<tr>\n",
       "  <th>ar.L3</th>  <td>    1.8189</td> <td>      nan</td> <td>      nan</td> <td>   nan</td> <td>      nan</td> <td>      nan</td>\n",
       "</tr>\n",
       "<tr>\n",
       "  <th>ar.L4</th>  <td>    2.8189</td> <td> 5.39e-08</td> <td> 5.23e+07</td> <td> 0.000</td> <td>    2.819</td> <td>    2.819</td>\n",
       "</tr>\n",
       "<tr>\n",
       "  <th>ar.L5</th>  <td>    1.0000</td> <td> 2.22e-08</td> <td> 4.51e+07</td> <td> 0.000</td> <td>    1.000</td> <td>    1.000</td>\n",
       "</tr>\n",
       "<tr>\n",
       "  <th>ma.L1</th>  <td>   -1.9997</td> <td> 4.22e-08</td> <td>-4.74e+07</td> <td> 0.000</td> <td>   -2.000</td> <td>   -2.000</td>\n",
       "</tr>\n",
       "<tr>\n",
       "  <th>ma.L2</th>  <td>    0.9997</td> <td>  4.1e-08</td> <td> 2.44e+07</td> <td> 0.000</td> <td>    1.000</td> <td>    1.000</td>\n",
       "</tr>\n",
       "<tr>\n",
       "  <th>sigma2</th> <td>  2.15e+05</td> <td> 1.91e-13</td> <td> 1.13e+18</td> <td> 0.000</td> <td> 2.15e+05</td> <td> 2.15e+05</td>\n",
       "</tr>\n",
       "</table>\n",
       "<table class=\"simpletable\">\n",
       "<tr>\n",
       "  <th>Ljung-Box (L1) (Q):</th>     <td>nan</td> <th>  Jarque-Bera (JB):  </th> <td>nan</td>\n",
       "</tr>\n",
       "<tr>\n",
       "  <th>Prob(Q):</th>                <td>nan</td> <th>  Prob(JB):          </th> <td>nan</td>\n",
       "</tr>\n",
       "<tr>\n",
       "  <th>Heteroskedasticity (H):</th> <td>nan</td> <th>  Skew:              </th> <td>nan</td>\n",
       "</tr>\n",
       "<tr>\n",
       "  <th>Prob(H) (two-sided):</th>    <td>nan</td> <th>  Kurtosis:          </th> <td>nan</td>\n",
       "</tr>\n",
       "</table><br/><br/>Warnings:<br/>[1] Covariance matrix calculated using the outer product of gradients (complex-step).<br/>[2] Covariance matrix is singular or near-singular, with condition number    inf. Standard errors may be unstable."
      ],
      "text/plain": [
       "<class 'statsmodels.iolib.summary.Summary'>\n",
       "\"\"\"\n",
       "                               SARIMAX Results                                \n",
       "==============================================================================\n",
       "Dep. Variable:               Quantity   No. Observations:                   12\n",
       "Model:                 ARIMA(5, 1, 2)   Log Likelihood                   0.000\n",
       "Date:                Thu, 26 Oct 2023   AIC                             16.000\n",
       "Time:                        09:51:01   BIC                             19.183\n",
       "Sample:                             0   HQIC                            13.993\n",
       "                                 - 12                                         \n",
       "Covariance Type:                  opg                                         \n",
       "==============================================================================\n",
       "                 coef    std err          z      P>|z|      [0.025      0.975]\n",
       "------------------------------------------------------------------------------\n",
       "ar.L1         -2.8189         -0        inf      0.000      -2.819      -2.819\n",
       "ar.L2         -1.8189   6.79e-08  -2.68e+07      0.000      -1.819      -1.819\n",
       "ar.L3          1.8189        nan        nan        nan         nan         nan\n",
       "ar.L4          2.8189   5.39e-08   5.23e+07      0.000       2.819       2.819\n",
       "ar.L5          1.0000   2.22e-08   4.51e+07      0.000       1.000       1.000\n",
       "ma.L1         -1.9997   4.22e-08  -4.74e+07      0.000      -2.000      -2.000\n",
       "ma.L2          0.9997    4.1e-08   2.44e+07      0.000       1.000       1.000\n",
       "sigma2       2.15e+05   1.91e-13   1.13e+18      0.000    2.15e+05    2.15e+05\n",
       "===================================================================================\n",
       "Ljung-Box (L1) (Q):                    nan   Jarque-Bera (JB):                  nan\n",
       "Prob(Q):                               nan   Prob(JB):                          nan\n",
       "Heteroskedasticity (H):                nan   Skew:                              nan\n",
       "Prob(H) (two-sided):                   nan   Kurtosis:                          nan\n",
       "===================================================================================\n",
       "\n",
       "Warnings:\n",
       "[1] Covariance matrix calculated using the outer product of gradients (complex-step).\n",
       "[2] Covariance matrix is singular or near-singular, with condition number    inf. Standard errors may be unstable.\n",
       "\"\"\""
      ]
     },
     "execution_count": 56,
     "metadata": {},
     "output_type": "execute_result"
    }
   ],
   "source": [
    "# Model fitting\n",
    "model1 = ARIMA(train.Quantity, order = (5,1,2))\n",
    "res1 = model1.fit()\n",
    "res1.summary()"
   ]
  },
  {
   "cell_type": "markdown",
   "metadata": {},
   "source": [
    "In this code, you are performing a forecast using the ARIMA (AutoRegressive Integrated Moving Average) model. \n",
    "\n",
    "- `start_index` is calculated as the length of the training dataset, indicating the starting point for the forecast.\n",
    "- `end_index` is determined as `start_index + 11`, which specifies the end point for the forecast.\n",
    "- Finally, `forecast_test` is generated using the ARIMA model to predict values from `start_index` to `end_index`, providing forecasts for the specified range."
   ]
  },
  {
   "cell_type": "code",
   "execution_count": null,
   "metadata": {},
   "outputs": [],
   "source": [
    "#Code applies ARIMA for time series forecasting by predicting future values from the end of the training\n",
    "#dataset\n",
    "start_index = len(train)\n",
    "start_index\n",
    "end_index = start_index + 11\n",
    "forecast_test = res1.predict(start = start_index, end = end_index)"
   ]
  },
  {
   "cell_type": "code",
   "execution_count": 59,
   "metadata": {},
   "outputs": [
    {
     "data": {
      "text/html": [
       "<div>\n",
       "<style scoped>\n",
       "    .dataframe tbody tr th:only-of-type {\n",
       "        vertical-align: middle;\n",
       "    }\n",
       "\n",
       "    .dataframe tbody tr th {\n",
       "        vertical-align: top;\n",
       "    }\n",
       "\n",
       "    .dataframe thead th {\n",
       "        text-align: right;\n",
       "    }\n",
       "</style>\n",
       "<table border=\"1\" class=\"dataframe\">\n",
       "  <thead>\n",
       "    <tr style=\"text-align: right;\">\n",
       "      <th></th>\n",
       "      <th>predicted_mean</th>\n",
       "    </tr>\n",
       "  </thead>\n",
       "  <tbody>\n",
       "    <tr>\n",
       "      <th>12</th>\n",
       "      <td>0.0</td>\n",
       "    </tr>\n",
       "    <tr>\n",
       "      <th>13</th>\n",
       "      <td>0.0</td>\n",
       "    </tr>\n",
       "    <tr>\n",
       "      <th>14</th>\n",
       "      <td>0.0</td>\n",
       "    </tr>\n",
       "    <tr>\n",
       "      <th>15</th>\n",
       "      <td>0.0</td>\n",
       "    </tr>\n",
       "    <tr>\n",
       "      <th>16</th>\n",
       "      <td>0.0</td>\n",
       "    </tr>\n",
       "    <tr>\n",
       "      <th>17</th>\n",
       "      <td>0.0</td>\n",
       "    </tr>\n",
       "    <tr>\n",
       "      <th>18</th>\n",
       "      <td>0.0</td>\n",
       "    </tr>\n",
       "    <tr>\n",
       "      <th>19</th>\n",
       "      <td>0.0</td>\n",
       "    </tr>\n",
       "    <tr>\n",
       "      <th>20</th>\n",
       "      <td>0.0</td>\n",
       "    </tr>\n",
       "    <tr>\n",
       "      <th>21</th>\n",
       "      <td>0.0</td>\n",
       "    </tr>\n",
       "    <tr>\n",
       "      <th>22</th>\n",
       "      <td>0.0</td>\n",
       "    </tr>\n",
       "    <tr>\n",
       "      <th>23</th>\n",
       "      <td>0.0</td>\n",
       "    </tr>\n",
       "  </tbody>\n",
       "</table>\n",
       "</div>"
      ],
      "text/plain": [
       "    predicted_mean\n",
       "12             0.0\n",
       "13             0.0\n",
       "14             0.0\n",
       "15             0.0\n",
       "16             0.0\n",
       "17             0.0\n",
       "18             0.0\n",
       "19             0.0\n",
       "20             0.0\n",
       "21             0.0\n",
       "22             0.0\n",
       "23             0.0"
      ]
     },
     "execution_count": 59,
     "metadata": {},
     "output_type": "execute_result"
    }
   ],
   "source": [
    "# Printing forecast values\n",
    "forecast_test = pd.DataFrame(forecast_test)\n",
    "forecast_test"
   ]
  },
  {
   "cell_type": "markdown",
   "metadata": {},
   "source": [
    "Calculating the root mean squared error (RMSE) for evaluating the accuracy of the ARIMA model's predictions on the test dataset."
   ]
  },
  {
   "cell_type": "code",
   "execution_count": 60,
   "metadata": {},
   "outputs": [
    {
     "name": "stdout",
     "output_type": "stream",
     "text": [
      "test RMSE: 1936.761\n"
     ]
    }
   ],
   "source": [
    "# Calculating root mean squared error (RMSE)\n",
    "from math import sqrt\n",
    "from sklearn.metrics import mean_squared_error\n",
    "\n",
    "rmse_test = sqrt(mean_squared_error(test.Quantity, forecast_test))\n",
    "\n",
    "print('test RMSE: %.3f' % rmse_test)"
   ]
  },
  {
   "cell_type": "code",
   "execution_count": 61,
   "metadata": {},
   "outputs": [
    {
     "data": {
      "image/png": "[encoded data removed]",
      "text/plain": [
       "<Figure size 640x480 with 1 Axes>"
      ]
     },
     "metadata": {},
     "output_type": "display_data"
    }
   ],
   "source": [
    "# Plotting curve\n",
    "plt.plot(test.Quantity)\n",
    "plt.plot(forecast_test, color = 'red')\n",
    "plt.show()"
   ]
  },
  {
   "cell_type": "code",
   "execution_count": 62,
   "metadata": {},
   "outputs": [
    {
     "data": {
      "image/png": "[encoded data removed]",
      "text/plain": [
       "<Figure size 640x480 with 1 Axes>"
      ]
     },
     "execution_count": 62,
     "metadata": {},
     "output_type": "execute_result"
    },
    {
     "data": {
      "image/png": "[encoded data removed]",
      "text/plain": [
       "<Figure size 640x480 with 1 Axes>"
      ]
     },
     "metadata": {},
     "output_type": "display_data"
    },
    {
     "data": {
      "image/png": "[encoded data removed]",
      "text/plain": [
       "<Figure size 640x480 with 1 Axes>"
      ]
     },
     "metadata": {},
     "output_type": "display_data"
    }
   ],
   "source": [
    "import statsmodels.graphics.tsaplots as tsa_plots\n",
    "from statsmodels.tsa.arima.model import ARIMA\n",
    "\n",
    "tsa_plots.plot_acf(full_res, lags = 11)\n",
    "tsa_plots.plot_pacf(full_res, lags = 5 )"
   ]
  },
  {
   "cell_type": "markdown",
   "metadata": {},
   "source": [
    "Automated the selection of an ARIMA model for the training data, finding the best order parameters for the autoregressive (AR) and moving average (MA) components. The selected model summary is not shown in the provided code snippet, but it would be used to describe the model's characteristics and fitness."
   ]
  },
  {
   "cell_type": "code",
   "execution_count": 63,
   "metadata": {},
   "outputs": [
    {
     "name": "stdout",
     "output_type": "stream",
     "text": [
      "Performing stepwise search to minimize aic\n",
      " ARIMA(0,1,0)(0,0,0)[0] intercept   : AIC=153.593, Time=0.02 sec\n",
      " ARIMA(1,1,0)(0,0,0)[0] intercept   : AIC=154.633, Time=0.11 sec\n",
      " ARIMA(0,1,1)(0,0,0)[0] intercept   : AIC=inf, Time=0.08 sec\n",
      " ARIMA(0,1,0)(0,0,0)[0]             : AIC=151.976, Time=0.03 sec\n",
      " ARIMA(1,1,1)(0,0,0)[0] intercept   : AIC=inf, Time=0.28 sec\n",
      "\n",
      "Best model:  ARIMA(0,1,0)(0,0,0)[0]          \n",
      "Total fit time: 0.544 seconds\n"
     ]
    },
    {
     "data": {
      "text/html": [
       "<table class=\"simpletable\">\n",
       "<caption>OLS Regression Results</caption>\n",
       "<tr>\n",
       "  <th>Dep. Variable:</th>        <td>Quantity</td>     <th>  R-squared:         </th> <td>   1.000</td>\n",
       "</tr>\n",
       "<tr>\n",
       "  <th>Model:</th>                   <td>OLS</td>       <th>  Adj. R-squared:    </th> <td>     nan</td>\n",
       "</tr>\n",
       "<tr>\n",
       "  <th>Method:</th>             <td>Least Squares</td>  <th>  F-statistic:       </th> <td>     nan</td>\n",
       "</tr>\n",
       "<tr>\n",
       "  <th>Date:</th>             <td>Thu, 26 Oct 2023</td> <th>  Prob (F-statistic):</th>  <td>   nan</td> \n",
       "</tr>\n",
       "<tr>\n",
       "  <th>Time:</th>                 <td>09:53:13</td>     <th>  Log-Likelihood:    </th> <td>  283.80</td>\n",
       "</tr>\n",
       "<tr>\n",
       "  <th>No. Observations:</th>      <td>    12</td>      <th>  AIC:               </th> <td>  -543.6</td>\n",
       "</tr>\n",
       "<tr>\n",
       "  <th>Df Residuals:</th>          <td>     0</td>      <th>  BIC:               </th> <td>  -537.8</td>\n",
       "</tr>\n",
       "<tr>\n",
       "  <th>Df Model:</th>              <td>    11</td>      <th>                     </th>     <td> </td>   \n",
       "</tr>\n",
       "<tr>\n",
       "  <th>Covariance Type:</th>      <td>nonrobust</td>    <th>                     </th>     <td> </td>   \n",
       "</tr>\n",
       "</table>\n",
       "<table class=\"simpletable\">\n",
       "<tr>\n",
       "      <td></td>         <th>coef</th>     <th>std err</th>      <th>t</th>      <th>P>|t|</th>  <th>[0.025</th>    <th>0.975]</th>  \n",
       "</tr>\n",
       "<tr>\n",
       "  <th>Intercept</th> <td>  899.9270</td> <td>      inf</td> <td>        0</td> <td>   nan</td> <td>      nan</td> <td>      nan</td>\n",
       "</tr>\n",
       "<tr>\n",
       "  <th>t</th>         <td>  273.5411</td> <td>      inf</td> <td>        0</td> <td>   nan</td> <td>      nan</td> <td>      nan</td>\n",
       "</tr>\n",
       "<tr>\n",
       "  <th>t_square</th>  <td>  -15.2404</td> <td>      inf</td> <td>       -0</td> <td>   nan</td> <td>      nan</td> <td>      nan</td>\n",
       "</tr>\n",
       "<tr>\n",
       "  <th>Jan</th>       <td>  681.7723</td> <td>      inf</td> <td>        0</td> <td>   nan</td> <td>      nan</td> <td>      nan</td>\n",
       "</tr>\n",
       "<tr>\n",
       "  <th>Feb</th>       <td>  152.9524</td> <td>      inf</td> <td>        0</td> <td>   nan</td> <td>      nan</td> <td>      nan</td>\n",
       "</tr>\n",
       "<tr>\n",
       "  <th>Mar</th>       <td>  364.6133</td> <td>      inf</td> <td>        0</td> <td>   nan</td> <td>      nan</td> <td>      nan</td>\n",
       "</tr>\n",
       "<tr>\n",
       "  <th>Apr</th>       <td>  185.7550</td> <td>      inf</td> <td>        0</td> <td>   nan</td> <td>      nan</td> <td>      nan</td>\n",
       "</tr>\n",
       "<tr>\n",
       "  <th>May</th>       <td>  -68.6226</td> <td>      inf</td> <td>       -0</td> <td>   nan</td> <td>      nan</td> <td>      nan</td>\n",
       "</tr>\n",
       "<tr>\n",
       "  <th>Jun</th>       <td> -249.5193</td> <td>      inf</td> <td>       -0</td> <td>   nan</td> <td>      nan</td> <td>      nan</td>\n",
       "</tr>\n",
       "<tr>\n",
       "  <th>Jul</th>       <td>  -59.9353</td> <td>      inf</td> <td>       -0</td> <td>   nan</td> <td>      nan</td> <td>      nan</td>\n",
       "</tr>\n",
       "<tr>\n",
       "  <th>Aug</th>       <td>   36.1295</td> <td>      inf</td> <td>        0</td> <td>   nan</td> <td>      nan</td> <td>      nan</td>\n",
       "</tr>\n",
       "<tr>\n",
       "  <th>Sep</th>       <td> -206.3249</td> <td>      inf</td> <td>       -0</td> <td>   nan</td> <td>      nan</td> <td>      nan</td>\n",
       "</tr>\n",
       "<tr>\n",
       "  <th>Oct</th>       <td> -280.2985</td> <td>      inf</td> <td>       -0</td> <td>   nan</td> <td>      nan</td> <td>      nan</td>\n",
       "</tr>\n",
       "<tr>\n",
       "  <th>Nov</th>       <td>   41.2086</td> <td>      inf</td> <td>        0</td> <td>   nan</td> <td>      nan</td> <td>      nan</td>\n",
       "</tr>\n",
       "<tr>\n",
       "  <th>Dec</th>       <td>  302.1966</td> <td>      inf</td> <td>        0</td> <td>   nan</td> <td>      nan</td> <td>      nan</td>\n",
       "</tr>\n",
       "</table>\n",
       "<table class=\"simpletable\">\n",
       "<tr>\n",
       "  <th>Omnibus:</th>       <td> 1.911</td> <th>  Durbin-Watson:     </th> <td>   0.296</td>\n",
       "</tr>\n",
       "<tr>\n",
       "  <th>Prob(Omnibus):</th> <td> 0.385</td> <th>  Jarque-Bera (JB):  </th> <td>   0.986</td>\n",
       "</tr>\n",
       "<tr>\n",
       "  <th>Skew:</th>          <td> 0.307</td> <th>  Prob(JB):          </th> <td>   0.611</td>\n",
       "</tr>\n",
       "<tr>\n",
       "  <th>Kurtosis:</th>      <td> 1.737</td> <th>  Cond. No.          </th> <td>    248.</td>\n",
       "</tr>\n",
       "</table><br/><br/>Notes:<br/>[1] Standard Errors assume that the covariance matrix of the errors is correctly specified.<br/>[2] The input rank is higher than the number of observations."
      ],
      "text/plain": [
       "<class 'statsmodels.iolib.summary.Summary'>\n",
       "\"\"\"\n",
       "                            OLS Regression Results                            \n",
       "==============================================================================\n",
       "Dep. Variable:               Quantity   R-squared:                       1.000\n",
       "Model:                            OLS   Adj. R-squared:                    nan\n",
       "Method:                 Least Squares   F-statistic:                       nan\n",
       "Date:                Thu, 26 Oct 2023   Prob (F-statistic):                nan\n",
       "Time:                        09:53:13   Log-Likelihood:                 283.80\n",
       "No. Observations:                  12   AIC:                            -543.6\n",
       "Df Residuals:                       0   BIC:                            -537.8\n",
       "Df Model:                          11                                         \n",
       "Covariance Type:            nonrobust                                         \n",
       "==============================================================================\n",
       "                 coef    std err          t      P>|t|      [0.025      0.975]\n",
       "------------------------------------------------------------------------------\n",
       "Intercept    899.9270        inf          0        nan         nan         nan\n",
       "t            273.5411        inf          0        nan         nan         nan\n",
       "t_square     -15.2404        inf         -0        nan         nan         nan\n",
       "Jan          681.7723        inf          0        nan         nan         nan\n",
       "Feb          152.9524        inf          0        nan         nan         nan\n",
       "Mar          364.6133        inf          0        nan         nan         nan\n",
       "Apr          185.7550        inf          0        nan         nan         nan\n",
       "May          -68.6226        inf         -0        nan         nan         nan\n",
       "Jun         -249.5193        inf         -0        nan         nan         nan\n",
       "Jul          -59.9353        inf         -0        nan         nan         nan\n",
       "Aug           36.1295        inf          0        nan         nan         nan\n",
       "Sep         -206.3249        inf         -0        nan         nan         nan\n",
       "Oct         -280.2985        inf         -0        nan         nan         nan\n",
       "Nov           41.2086        inf          0        nan         nan         nan\n",
       "Dec          302.1966        inf          0        nan         nan         nan\n",
       "==============================================================================\n",
       "Omnibus:                        1.911   Durbin-Watson:                   0.296\n",
       "Prob(Omnibus):                  0.385   Jarque-Bera (JB):                0.986\n",
       "Skew:                           0.307   Prob(JB):                        0.611\n",
       "Kurtosis:                       1.737   Cond. No.                         248.\n",
       "==============================================================================\n",
       "\n",
       "Notes:\n",
       "[1] Standard Errors assume that the covariance matrix of the errors is correctly specified.\n",
       "[2] The input rank is higher than the number of observations.\n",
       "\"\"\""
      ]
     },
     "execution_count": 63,
     "metadata": {},
     "output_type": "execute_result"
    }
   ],
   "source": [
    "import pmdarima as pm\n",
    "# help(pm.auto_arima)\n",
    "\n",
    "ar_model = pm.auto_arima(train.Quantity, start_p = 0, start_q = 0,\n",
    "                      max_p = 16, max_q = 16, # maximum p and q\n",
    "                      m = 1,              # frequency of series\n",
    "                      d = None,           # let model determine 'd'\n",
    "                      seasonal = False,   # No Seasonality\n",
    "                      start_P = 0, trace = True,\n",
    "                      error_action = 'warn', stepwise = True)\n",
    "\n",
    "# Print model summary\n",
    "model.summary()"
   ]
  },
  {
   "cell_type": "code",
   "execution_count": 64,
   "metadata": {},
   "outputs": [
    {
     "name": "stdout",
     "output_type": "stream",
     "text": [
      "Test RMSE: 409.357\n"
     ]
    }
   ],
   "source": [
    "# Predictions on test set\n",
    "predictions =ar_model.predict(n_periods=len(test))\n",
    "\n",
    "# Calculate RMSE\n",
    "from sklearn.metrics import mean_squared_error\n",
    "from math import sqrt\n",
    "\n",
    "rmse = sqrt(mean_squared_error(test.Quantity, predictions))\n",
    "print('Test RMSE: %.3f' % rmse)"
   ]
  },
  {
   "cell_type": "code",
   "execution_count": 65,
   "metadata": {},
   "outputs": [
    {
     "data": {
      "image/png": "[encoded data removed]",
      "text/plain": [
       "<Figure size 640x480 with 1 Axes>"
      ]
     },
     "metadata": {},
     "output_type": "display_data"
    }
   ],
   "source": [
    "# Plot predictions against actual values\n",
    "plt.plot(test.Quantity)\n",
    "plt.plot(predictions, color='red')\n",
    "plt.show()"
   ]
  },
  {
   "cell_type": "markdown",
   "metadata": {},
   "source": [
    "# Auto ARIMA"
   ]
  },
  {
   "cell_type": "code",
   "execution_count": 66,
   "metadata": {},
   "outputs": [
    {
     "data": {
      "text/html": [
       "<table class=\"simpletable\">\n",
       "<caption>SARIMAX Results</caption>\n",
       "<tr>\n",
       "  <th>Dep. Variable:</th>       <td>Quantity</td>     <th>  No. Observations:  </th>   <td>12</td>   \n",
       "</tr>\n",
       "<tr>\n",
       "  <th>Model:</th>            <td>ARIMA(1, 0, 1)</td>  <th>  Log Likelihood     </th> <td>-78.955</td>\n",
       "</tr>\n",
       "<tr>\n",
       "  <th>Date:</th>            <td>Thu, 26 Oct 2023</td> <th>  AIC                </th> <td>165.910</td>\n",
       "</tr>\n",
       "<tr>\n",
       "  <th>Time:</th>                <td>09:53:14</td>     <th>  BIC                </th> <td>167.850</td>\n",
       "</tr>\n",
       "<tr>\n",
       "  <th>Sample:</th>                  <td>0</td>        <th>  HQIC               </th> <td>165.192</td>\n",
       "</tr>\n",
       "<tr>\n",
       "  <th></th>                       <td> - 12</td>      <th>                     </th>    <td> </td>   \n",
       "</tr>\n",
       "<tr>\n",
       "  <th>Covariance Type:</th>        <td>opg</td>       <th>                     </th>    <td> </td>   \n",
       "</tr>\n",
       "</table>\n",
       "<table class=\"simpletable\">\n",
       "<tr>\n",
       "     <td></td>       <th>coef</th>     <th>std err</th>      <th>z</th>      <th>P>|z|</th>  <th>[0.025</th>    <th>0.975]</th>  \n",
       "</tr>\n",
       "<tr>\n",
       "  <th>const</th>  <td> 1937.8914</td> <td>   72.987</td> <td>   26.551</td> <td> 0.000</td> <td> 1794.840</td> <td> 2080.943</td>\n",
       "</tr>\n",
       "<tr>\n",
       "  <th>ar.L1</th>  <td>   -0.4383</td> <td>    0.842</td> <td>   -0.520</td> <td> 0.603</td> <td>   -2.089</td> <td>    1.212</td>\n",
       "</tr>\n",
       "<tr>\n",
       "  <th>ma.L1</th>  <td>    0.9974</td> <td>   21.535</td> <td>    0.046</td> <td> 0.963</td> <td>  -41.211</td> <td>   43.206</td>\n",
       "</tr>\n",
       "<tr>\n",
       "  <th>sigma2</th> <td> 2.635e+04</td> <td> 5.53e+05</td> <td>    0.048</td> <td> 0.962</td> <td>-1.06e+06</td> <td> 1.11e+06</td>\n",
       "</tr>\n",
       "</table>\n",
       "<table class=\"simpletable\">\n",
       "<tr>\n",
       "  <th>Ljung-Box (L1) (Q):</th>     <td>0.02</td> <th>  Jarque-Bera (JB):  </th> <td>0.49</td> \n",
       "</tr>\n",
       "<tr>\n",
       "  <th>Prob(Q):</th>                <td>0.90</td> <th>  Prob(JB):          </th> <td>0.78</td> \n",
       "</tr>\n",
       "<tr>\n",
       "  <th>Heteroskedasticity (H):</th> <td>0.76</td> <th>  Skew:              </th> <td>-0.30</td>\n",
       "</tr>\n",
       "<tr>\n",
       "  <th>Prob(H) (two-sided):</th>    <td>0.79</td> <th>  Kurtosis:          </th> <td>2.21</td> \n",
       "</tr>\n",
       "</table><br/><br/>Warnings:<br/>[1] Covariance matrix calculated using the outer product of gradients (complex-step)."
      ],
      "text/plain": [
       "<class 'statsmodels.iolib.summary.Summary'>\n",
       "\"\"\"\n",
       "                               SARIMAX Results                                \n",
       "==============================================================================\n",
       "Dep. Variable:               Quantity   No. Observations:                   12\n",
       "Model:                 ARIMA(1, 0, 1)   Log Likelihood                 -78.955\n",
       "Date:                Thu, 26 Oct 2023   AIC                            165.910\n",
       "Time:                        09:53:14   BIC                            167.850\n",
       "Sample:                             0   HQIC                           165.192\n",
       "                                 - 12                                         \n",
       "Covariance Type:                  opg                                         \n",
       "==============================================================================\n",
       "                 coef    std err          z      P>|z|      [0.025      0.975]\n",
       "------------------------------------------------------------------------------\n",
       "const       1937.8914     72.987     26.551      0.000    1794.840    2080.943\n",
       "ar.L1         -0.4383      0.842     -0.520      0.603      -2.089       1.212\n",
       "ma.L1          0.9974     21.535      0.046      0.963     -41.211      43.206\n",
       "sigma2      2.635e+04   5.53e+05      0.048      0.962   -1.06e+06    1.11e+06\n",
       "===================================================================================\n",
       "Ljung-Box (L1) (Q):                   0.02   Jarque-Bera (JB):                 0.49\n",
       "Prob(Q):                              0.90   Prob(JB):                         0.78\n",
       "Heteroskedasticity (H):               0.76   Skew:                            -0.30\n",
       "Prob(H) (two-sided):                  0.79   Kurtosis:                         2.21\n",
       "===================================================================================\n",
       "\n",
       "Warnings:\n",
       "[1] Covariance matrix calculated using the outer product of gradients (complex-step).\n",
       "\"\"\""
      ]
     },
     "execution_count": 66,
     "metadata": {},
     "output_type": "execute_result"
    }
   ],
   "source": [
    "# Model fitting\n",
    "model = ARIMA(train.Quantity, order = (1,0,1))\n",
    "res = model.fit()\n",
    "res.summary()"
   ]
  },
  {
   "cell_type": "code",
   "execution_count": 67,
   "metadata": {},
   "outputs": [
    {
     "data": {
      "text/plain": [
       "12    1985.354556\n",
       "13    1917.087356\n",
       "14    1947.010280\n",
       "15    1933.894444\n",
       "16    1939.643386\n",
       "17    1937.123506\n",
       "18    1938.228022\n",
       "19    1937.743890\n",
       "20    1937.956095\n",
       "21    1937.863081\n",
       "22    1937.903851\n",
       "23    1937.885980\n",
       "Name: predicted_mean, dtype: float64"
      ]
     },
     "execution_count": 67,
     "metadata": {},
     "output_type": "execute_result"
    }
   ],
   "source": [
    "# Forecast for next 12 months\n",
    "start_index = len(Train)\n",
    "end_index = start_index + 11\n",
    "forecast_best = res.predict(start = start_index, end = end_index)\n",
    "\n",
    "\n",
    "forecast_best"
   ]
  },
  {
   "cell_type": "code",
   "execution_count": 68,
   "metadata": {},
   "outputs": [
    {
     "name": "stdout",
     "output_type": "stream",
     "text": [
      "Test RMSE: 189.299\n"
     ]
    }
   ],
   "source": [
    "# Evaluate forecasts\n",
    "rmse_best = sqrt(mean_squared_error(test.Quantity, forecast_best))\n",
    "print('Test RMSE: %.3f' % rmse_best)"
   ]
  },
  {
   "cell_type": "code",
   "execution_count": 69,
   "metadata": {},
   "outputs": [
    {
     "data": {
      "image/png": "[encoded data removed]",
      "text/plain": [
       "<Figure size 640x480 with 1 Axes>"
      ]
     },
     "metadata": {},
     "output_type": "display_data"
    }
   ],
   "source": [
    "# Plot forecasts against actual outcomes\n",
    "pyplot.plot(test.Quantity)\n",
    "pyplot.plot(forecast_best, color = 'red')\n",
    "pyplot.show()"
   ]
  },
  {
   "cell_type": "markdown",
   "metadata": {},
   "source": [
    "# Holt-Winters Method"
   ]
  },
  {
   "cell_type": "markdown",
   "metadata": {},
   "source": [
    "The Holt-Winters method is a widely used time series forecasting technique that takes into account three main components of time series data: \n",
    "\n",
    "1. **Level (L):** This component represents the baseline or the average value in the time series.\n",
    "\n",
    "2. **Trend (T):** The trend component captures the overall direction or tendency of the data. It can be increasing, decreasing, or remain relatively stable over time.\n",
    "\n",
    "3. **Seasonality (S):** The seasonality component accounts for regular, repeating patterns or fluctuations in the data, often associated with specific time intervals, like daily, weekly, or yearly.\n",
    "\n",
    "The method has several variations based on how these components are combined:\n",
    "\n",
    "- **Additive Seasonal Model:** This model assumes that the seasonality is added to the trend and level components. It is suitable when the seasonal fluctuations are relatively consistent in amplitude.\n",
    "\n",
    "- **Multiplicative Seasonal Model:** In this case, seasonality is treated as a multiplication of the trend and level. This model is used when the seasonal fluctuations are proportional to the level of the series.\n",
    "\n",
    "The Holt-Winters method uses these components to forecast future values in a time series by estimating their values over time. It does so by smoothing historical data, adapting to changes in the level, trend, and seasonality components. The method is particularly effective for time series data with clear seasonality patterns.\n",
    "\n",
    "One of the key advantages of the Holt-Winters method is its adaptability to changing data patterns. It can give more weight to recent data, making it suitable for capturing evolving trends or seasonality.\n",
    "\n",
    "In summary, the Holt-Winters method is a robust and flexible approach to time series forecasting, making it valuable in various domains, including economics, finance, and operations research. It's a powerful tool for understanding and predicting patterns in time series data."
   ]
  },
  {
   "cell_type": "code",
   "execution_count": 70,
   "metadata": {},
   "outputs": [],
   "source": [
    "from statsmodels.tsa.holtwinters import ExponentialSmoothing\n",
    "from sklearn.metrics import mean_squared_error\n",
    "\n",
    "# Fit an Exponential Smoothing model to the data\n",
    "model = ExponentialSmoothing(df_grouped['Quantity'], seasonal_periods=4, trend='add', seasonal='mul')\n",
    "model_fit = model.fit()"
   ]
  },
  {
   "cell_type": "code",
   "execution_count": 71,
   "metadata": {},
   "outputs": [
    {
     "data": {
      "text/plain": [
       "12    2024.912398\n",
       "13    1928.722518\n",
       "14    2216.919602\n",
       "15    2384.678271\n",
       "16    2128.824796\n",
       "17    2026.445036\n",
       "18    2327.839201\n",
       "19    2502.517407\n",
       "20    2232.737194\n",
       "21    2124.167553\n",
       "22    2438.758800\n",
       "23    2620.356543\n",
       "dtype: float64"
      ]
     },
     "execution_count": 71,
     "metadata": {},
     "output_type": "execute_result"
    }
   ],
   "source": [
    "# Forecast for the next 12 periods\n",
    "forecast = model_fit.forecast(steps=12)\n",
    "forecast"
   ]
  },
  {
   "cell_type": "code",
   "execution_count": 72,
   "metadata": {},
   "outputs": [],
   "source": [
    "# Prepare train and test datasets\n",
    "train =df_grouped.Quantity\n",
    "test =df_grouped.Quantity"
   ]
  },
  {
   "cell_type": "code",
   "execution_count": 73,
   "metadata": {},
   "outputs": [
    {
     "name": "stdout",
     "output_type": "stream",
     "text": [
      "MAPE: nan\n"
     ]
    }
   ],
   "source": [
    "mape= np.mean(np.abs((test - forecast) / test)) * 100\n",
    "print(\"MAPE:\",mape)"
   ]
  },
  {
   "cell_type": "code",
   "execution_count": 74,
   "metadata": {},
   "outputs": [
    {
     "data": {
      "image/png": "[encoded data removed]",
      "text/plain": [
       "<Figure size 640x480 with 1 Axes>"
      ]
     },
     "metadata": {},
     "output_type": "display_data"
    }
   ],
   "source": [
    "plt.plot(df_grouped['Quantity'], label='Actual')\n",
    "plt.plot(forecast.index, forecast , label='Forecast')\n",
    "plt.legend()\n",
    "plt.show()"
   ]
  },
  {
   "cell_type": "code",
   "execution_count": 75,
   "metadata": {},
   "outputs": [],
   "source": [
    "from statsmodels.tsa.holtwinters import ExponentialSmoothing\n",
    "from sklearn.metrics import mean_squared_error\n",
    "\n",
    "# Fit an Exponential Smoothing model to the data\n",
    "model = ExponentialSmoothing(df_grouped['Quantity'], seasonal_periods=4, trend='mul', seasonal='add')\n",
    "model_fit = model.fit()"
   ]
  },
  {
   "cell_type": "code",
   "execution_count": 76,
   "metadata": {},
   "outputs": [
    {
     "data": {
      "text/plain": [
       "12    2276.389648\n",
       "13    2327.957817\n",
       "14    2989.943459\n",
       "15    3255.556057\n",
       "16    3336.991503\n",
       "17    3491.041711\n",
       "18    4265.411850\n",
       "19    4654.268246\n",
       "20    4870.856082\n",
       "21    5173.117955\n",
       "22    6110.020906\n",
       "23    6677.115057\n",
       "dtype: float64"
      ]
     },
     "execution_count": 76,
     "metadata": {},
     "output_type": "execute_result"
    }
   ],
   "source": [
    "# Forecast for next 12 periods\n",
    "forecast = model_fit.forecast(steps=12)\n",
    "forecast"
   ]
  },
  {
   "cell_type": "code",
   "execution_count": 77,
   "metadata": {},
   "outputs": [],
   "source": [
    "# Prepare train and test datasets\n",
    "train = df_grouped.Quantity\n",
    "test = df_grouped.Quantity"
   ]
  },
  {
   "cell_type": "code",
   "execution_count": 78,
   "metadata": {},
   "outputs": [
    {
     "name": "stdout",
     "output_type": "stream",
     "text": [
      "MAPE: nan\n",
      "RMSE: 2508.7412554940715\n"
     ]
    }
   ],
   "source": [
    "# Calculate root mean squared error (RMSE) of the forecast\n",
    "mape= np.mean(np.abs((test - forecast) / test)) * 100\n",
    "print(\"MAPE:\",mape)\n",
    "\n",
    "rmse = np.sqrt(mean_squared_error(test, forecast))\n",
    "print(\"RMSE:\", rmse)"
   ]
  },
  {
   "cell_type": "code",
   "execution_count": 79,
   "metadata": {},
   "outputs": [
    {
     "data": {
      "image/png": "[encoded data removed]",
      "text/plain": [
       "<Figure size 640x480 with 1 Axes>"
      ]
     },
     "metadata": {},
     "output_type": "display_data"
    }
   ],
   "source": [
    "plt.plot(df_grouped['Quantity'], label='Actual')\n",
    "plt.plot(forecast.index, forecast , label='Forecast')\n",
    "plt.legend()\n",
    "plt.show()"
   ]
  },
  {
   "cell_type": "code",
   "execution_count": 80,
   "metadata": {},
   "outputs": [
    {
     "data": {
      "text/plain": [
       "12    2031.659582\n",
       "13    1941.659583\n",
       "14    2216.659583\n",
       "15    2370.319165\n",
       "16    2142.319165\n",
       "17    2052.319165\n",
       "18    2327.319165\n",
       "19    2480.978747\n",
       "20    2252.978747\n",
       "21    2162.978748\n",
       "22    2437.978748\n",
       "23    2591.638329\n",
       "dtype: float64"
      ]
     },
     "execution_count": 80,
     "metadata": {},
     "output_type": "execute_result"
    }
   ],
   "source": [
    "from statsmodels.tsa.holtwinters import ExponentialSmoothing\n",
    "from sklearn.metrics import mean_squared_error\n",
    "\n",
    "# Fit an Exponential Smoothing model to the data\n",
    "model = ExponentialSmoothing(df_grouped['Quantity'], seasonal_periods=4, trend='add', seasonal='add')\n",
    "model_fit = model.fit()\n",
    "\n",
    "# Forecast for the next 12 periods\n",
    "forecast = model_fit.forecast(steps=12)\n",
    "forecast"
   ]
  },
  {
   "cell_type": "code",
   "execution_count": 81,
   "metadata": {},
   "outputs": [
    {
     "name": "stdout",
     "output_type": "stream",
     "text": [
      "MAPE: nan\n",
      "RMSE: 328.4217912562521\n"
     ]
    }
   ],
   "source": [
    "# Prepare train and test datasets\n",
    "train = df_grouped.Quantity\n",
    "test = df_grouped.Quantity\n",
    "\n",
    "# Calculate root mean squared error (RMSE) of the forecast\n",
    "mape= np.mean(np.abs((test - forecast) / test)) * 100\n",
    "print(\"MAPE:\",mape)\n",
    "rmse = np.sqrt(mean_squared_error(test, forecast))\n",
    "print(\"RMSE:\", rmse)"
   ]
  },
  {
   "cell_type": "code",
   "execution_count": 82,
   "metadata": {},
   "outputs": [
    {
     "data": {
      "image/png": "[encoded data removed]",
      "text/plain": [
       "<Figure size 640x480 with 1 Axes>"
      ]
     },
     "metadata": {},
     "output_type": "display_data"
    }
   ],
   "source": [
    "plt.plot(df_grouped['Quantity'], label='Actual')\n",
    "plt.plot(forecast.index, forecast , label='Forecast')\n",
    "plt.legend()\n",
    "plt.show()"
   ]
  },
  {
   "cell_type": "code",
   "execution_count": 83,
   "metadata": {},
   "outputs": [
    {
     "data": {
      "text/plain": [
       "nan"
      ]
     },
     "execution_count": 83,
     "metadata": {},
     "output_type": "execute_result"
    }
   ],
   "source": [
    "from statsmodels.tsa.holtwinters import ExponentialSmoothing\n",
    "\n",
    "# Fit Holt-Winters method on training data\n",
    "hw_model = ExponentialSmoothing(Train['Quantity'], seasonal_periods=6, trend='add', seasonal='add').fit()\n",
    "\n",
    "# Predictions on test data using the fitted model\n",
    "pred_hw = hw_model.forecast(len(Test))\n",
    "\n",
    "# Calculate MAPE between predicted and actual values\n",
    "mape_hw = np.mean(np.abs((Test['Quantity'] - pred_hw) / Test['Quantity'])) * 100\n",
    "mape_hw"
   ]
  },
  {
   "cell_type": "code",
   "execution_count": 84,
   "metadata": {},
   "outputs": [
    {
     "data": {
      "text/plain": [
       "12    2354.292695\n",
       "13    2157.696688\n",
       "14    2971.109688\n",
       "15    3224.600067\n",
       "16    3317.869166\n",
       "17    3040.809380\n",
       "18    4187.140045\n",
       "19    4544.380211\n",
       "20    4675.822945\n",
       "21    4285.366770\n",
       "22    5900.873276\n",
       "23    6404.326450\n",
       "dtype: float64"
      ]
     },
     "execution_count": 84,
     "metadata": {},
     "output_type": "execute_result"
    }
   ],
   "source": [
    "from statsmodels.tsa.holtwinters import ExponentialSmoothing\n",
    "from sklearn.metrics import mean_squared_error\n",
    "\n",
    "# Fit an Exponential Smoothing model to the data\n",
    "model = ExponentialSmoothing(df_grouped['Quantity'], seasonal_periods=4, trend='mul', seasonal='mul')\n",
    "model_fit = model.fit()\n",
    "\n",
    "# Forecast for the next 12 periods\n",
    "forecast = model_fit.forecast(steps=12)\n",
    "forecast"
   ]
  },
  {
   "cell_type": "code",
   "execution_count": 85,
   "metadata": {},
   "outputs": [
    {
     "name": "stdout",
     "output_type": "stream",
     "text": [
      "RMSE: 2286.1293990486815\n"
     ]
    }
   ],
   "source": [
    "# Prepare train and test datasets\n",
    "train =df_grouped.Quantity\n",
    "test =df_grouped.Quantity\n",
    "\n",
    "# Calculate root mean squared error (RMSE) of the forecast\n",
    "rmse = np.sqrt(mean_squared_error(test, forecast))\n",
    "print(\"RMSE:\", rmse)"
   ]
  },
  {
   "cell_type": "code",
   "execution_count": 86,
   "metadata": {},
   "outputs": [
    {
     "data": {
      "image/png": "[encoded data removed]",
      "text/plain": [
       "<Figure size 640x480 with 1 Axes>"
      ]
     },
     "metadata": {},
     "output_type": "display_data"
    }
   ],
   "source": [
    "plt.plot(df_grouped['Quantity'], label='Actual')\n",
    "plt.plot(forecast.index, forecast , label='Forecast')\n",
    "plt.legend()\n",
    "plt.show()"
   ]
  },
  {
   "cell_type": "markdown",
   "metadata": {},
   "source": [
    "### Exponential Smoothing"
   ]
  },
  {
   "cell_type": "code",
   "execution_count": 88,
   "metadata": {},
   "outputs": [],
   "source": [
    "# Date column as index\n",
    "# df_grouped.set_index('Dateofbill', inplace=True)\n",
    "# Computed rolling mean of the sales data using SES\n",
    "\n",
    "alpha =1   # smoothing parameter\n",
    "df_grouped['SES'] = df_grouped['Quantity'].ewm(alpha=alpha, adjust=False).mean()"
   ]
  },
  {
   "cell_type": "code",
   "execution_count": 89,
   "metadata": {},
   "outputs": [
    {
     "data": {
      "image/png": "[encoded data removed]",
      "text/plain": [
       "<Figure size 640x480 with 1 Axes>"
      ]
     },
     "metadata": {},
     "output_type": "display_data"
    }
   ],
   "source": [
    "plt.plot(df_grouped['Quantity'], label='Actual')\n",
    "plt.plot(forecast.index, forecast , label='Forecast')\n",
    "plt.legend()\n",
    "plt.show()"
   ]
  },
  {
   "cell_type": "code",
   "execution_count": 90,
   "metadata": {},
   "outputs": [
    {
     "data": {
      "image/png": "[encoded data removed]",
      "text/plain": [
       "<Figure size 640x480 with 1 Axes>"
      ]
     },
     "metadata": {},
     "output_type": "display_data"
    }
   ],
   "source": [
    "# Plot  of original sales data and the SES forecast\n",
    "plt.plot(df_grouped['Quantity'], label='Actual Sales')\n",
    "plt.plot(df_grouped['SES'], label='SES Forecast')\n",
    "plt.legend()\n",
    "plt.show()"
   ]
  },
  {
   "cell_type": "markdown",
   "metadata": {},
   "source": [
    "# Random Forest & Linear Regression Model"
   ]
  },
  {
   "cell_type": "markdown",
   "metadata": {},
   "source": [
    "Random Forest and Linear Regression are two distinct machine learning models, each with its characteristics and use cases.\n",
    "\n",
    "1. **Random Forest:**\n",
    "   - **Type:** Random Forest is an ensemble learning method, specifically a bagging technique.\n",
    "   - **Use Cases:** It is used for both regression and classification tasks. Common applications include predicting customer behavior, stock prices, disease outbreak, and image classification.\n",
    "   - **How It Works:** Random Forest builds multiple decision trees during training, each with a subset of the data and features. Predictions are made by aggregating the results from individual trees (voting for classification or averaging for regression).\n",
    "   - **Strengths:** It's robust against overfitting, handles both categorical and numerical data, provides feature importances, and performs well in various scenarios.\n",
    "   - **Weaknesses:** It may not perform well with very high-dimensional data and can be challenging to interpret.\n",
    "\n",
    "2. **Linear Regression:**\n",
    "   - **Type:** Linear Regression is a type of supervised learning algorithm used for regression tasks.\n",
    "   - **Use Cases:** It is primarily used for predicting a continuous output variable. Typical applications include predicting house prices, stock prices, or any numerical value based on one or more input features.\n",
    "   - **How It Works:** Linear Regression models the relationship between the independent variable(s) and the dependent variable by fitting a linear equation. It finds the best-fit line (in the case of simple linear regression) or a hyperplane (in the case of multiple linear regression) to make predictions.\n",
    "   - **Strengths:** It's simple, interpretable, and works well when the relationship between variables is approximately linear.\n",
    "   - **Weaknesses:** Linear Regression assumes a linear relationship, which may not hold in many real-world situations where relationships are more complex. It's sensitive to outliers and can be prone to overfitting in high-dimensional spaces.\n",
    "\n",
    "In summary, Random Forest is a versatile ensemble method suitable for various tasks, and it's known for its robustness and predictive power. In contrast, Linear Regression is a straightforward and interpretable model primarily used for regression problems when a linear relationship between variables is assumed. The choice between these two models depends on the specific problem, the characteristics of the data, and the interpretability of the results."
   ]
  },
  {
   "cell_type": "code",
   "execution_count": 91,
   "metadata": {},
   "outputs": [],
   "source": [
    "# Selecting required columns\n",
    "df = data[['Dateofbill', 'Quantity']]"
   ]
  },
  {
   "cell_type": "code",
   "execution_count": 92,
   "metadata": {},
   "outputs": [],
   "source": [
    "# Setting the frequency of the DataFrame's index to 'MS\n",
    "df.index.freq = 'MS'"
   ]
  },
  {
   "cell_type": "code",
   "execution_count": 93,
   "metadata": {},
   "outputs": [
    {
     "data": {
      "text/html": [
       "<div>\n",
       "<style scoped>\n",
       "    .dataframe tbody tr th:only-of-type {\n",
       "        vertical-align: middle;\n",
       "    }\n",
       "\n",
       "    .dataframe tbody tr th {\n",
       "        vertical-align: top;\n",
       "    }\n",
       "\n",
       "    .dataframe thead th {\n",
       "        text-align: right;\n",
       "    }\n",
       "</style>\n",
       "<table border=\"1\" class=\"dataframe\">\n",
       "  <thead>\n",
       "    <tr style=\"text-align: right;\">\n",
       "      <th></th>\n",
       "      <th>Dateofbill</th>\n",
       "      <th>Quantity</th>\n",
       "    </tr>\n",
       "  </thead>\n",
       "  <tbody>\n",
       "    <tr>\n",
       "      <th>0</th>\n",
       "      <td>Jan</td>\n",
       "      <td>1840</td>\n",
       "    </tr>\n",
       "    <tr>\n",
       "      <th>1</th>\n",
       "      <td>Feb</td>\n",
       "      <td>1539</td>\n",
       "    </tr>\n",
       "    <tr>\n",
       "      <th>2</th>\n",
       "      <td>Mar</td>\n",
       "      <td>1948</td>\n",
       "    </tr>\n",
       "    <tr>\n",
       "      <th>3</th>\n",
       "      <td>Apr</td>\n",
       "      <td>1936</td>\n",
       "    </tr>\n",
       "    <tr>\n",
       "      <th>4</th>\n",
       "      <td>May</td>\n",
       "      <td>1818</td>\n",
       "    </tr>\n",
       "    <tr>\n",
       "      <th>5</th>\n",
       "      <td>Jun</td>\n",
       "      <td>1743</td>\n",
       "    </tr>\n",
       "    <tr>\n",
       "      <th>6</th>\n",
       "      <td>Jul</td>\n",
       "      <td>2008</td>\n",
       "    </tr>\n",
       "    <tr>\n",
       "      <th>7</th>\n",
       "      <td>Aug</td>\n",
       "      <td>2149</td>\n",
       "    </tr>\n",
       "    <tr>\n",
       "      <th>8</th>\n",
       "      <td>Sep</td>\n",
       "      <td>1921</td>\n",
       "    </tr>\n",
       "    <tr>\n",
       "      <th>9</th>\n",
       "      <td>Oct</td>\n",
       "      <td>1831</td>\n",
       "    </tr>\n",
       "  </tbody>\n",
       "</table>\n",
       "</div>"
      ],
      "text/plain": [
       "  Dateofbill  Quantity\n",
       "0        Jan      1840\n",
       "1        Feb      1539\n",
       "2        Mar      1948\n",
       "3        Apr      1936\n",
       "4        May      1818\n",
       "5        Jun      1743\n",
       "6        Jul      2008\n",
       "7        Aug      2149\n",
       "8        Sep      1921\n",
       "9        Oct      1831"
      ]
     },
     "execution_count": 93,
     "metadata": {},
     "output_type": "execute_result"
    }
   ],
   "source": [
    "# Viewing dataset\n",
    "df.head(10)"
   ]
  },
  {
   "cell_type": "code",
   "execution_count": 94,
   "metadata": {},
   "outputs": [
    {
     "data": {
      "text/html": [
       "<div>\n",
       "<style scoped>\n",
       "    .dataframe tbody tr th:only-of-type {\n",
       "        vertical-align: middle;\n",
       "    }\n",
       "\n",
       "    .dataframe tbody tr th {\n",
       "        vertical-align: top;\n",
       "    }\n",
       "\n",
       "    .dataframe thead th {\n",
       "        text-align: right;\n",
       "    }\n",
       "</style>\n",
       "<table border=\"1\" class=\"dataframe\">\n",
       "  <thead>\n",
       "    <tr style=\"text-align: right;\">\n",
       "      <th></th>\n",
       "      <th>Quantity</th>\n",
       "    </tr>\n",
       "    <tr>\n",
       "      <th>Dateofbill</th>\n",
       "      <th></th>\n",
       "    </tr>\n",
       "  </thead>\n",
       "  <tbody>\n",
       "    <tr>\n",
       "      <th>Jan</th>\n",
       "      <td>1840</td>\n",
       "    </tr>\n",
       "    <tr>\n",
       "      <th>Feb</th>\n",
       "      <td>1539</td>\n",
       "    </tr>\n",
       "    <tr>\n",
       "      <th>Mar</th>\n",
       "      <td>1948</td>\n",
       "    </tr>\n",
       "    <tr>\n",
       "      <th>Apr</th>\n",
       "      <td>1936</td>\n",
       "    </tr>\n",
       "    <tr>\n",
       "      <th>May</th>\n",
       "      <td>1818</td>\n",
       "    </tr>\n",
       "    <tr>\n",
       "      <th>Jun</th>\n",
       "      <td>1743</td>\n",
       "    </tr>\n",
       "    <tr>\n",
       "      <th>Jul</th>\n",
       "      <td>2008</td>\n",
       "    </tr>\n",
       "    <tr>\n",
       "      <th>Aug</th>\n",
       "      <td>2149</td>\n",
       "    </tr>\n",
       "    <tr>\n",
       "      <th>Sep</th>\n",
       "      <td>1921</td>\n",
       "    </tr>\n",
       "    <tr>\n",
       "      <th>Oct</th>\n",
       "      <td>1831</td>\n",
       "    </tr>\n",
       "    <tr>\n",
       "      <th>Nov</th>\n",
       "      <td>2106</td>\n",
       "    </tr>\n",
       "    <tr>\n",
       "      <th>Dec</th>\n",
       "      <td>2290</td>\n",
       "    </tr>\n",
       "  </tbody>\n",
       "</table>\n",
       "</div>"
      ],
      "text/plain": [
       "            Quantity\n",
       "Dateofbill          \n",
       "Jan             1840\n",
       "Feb             1539\n",
       "Mar             1948\n",
       "Apr             1936\n",
       "May             1818\n",
       "Jun             1743\n",
       "Jul             2008\n",
       "Aug             2149\n",
       "Sep             1921\n",
       "Oct             1831\n",
       "Nov             2106\n",
       "Dec             2290"
      ]
     },
     "execution_count": 94,
     "metadata": {},
     "output_type": "execute_result"
    }
   ],
   "source": [
    "# Setting index\n",
    "df.set_index('Dateofbill')"
   ]
  },
  {
   "cell_type": "code",
   "execution_count": 95,
   "metadata": {},
   "outputs": [
    {
     "data": {
      "text/plain": [
       "<Axes: >"
      ]
     },
     "execution_count": 95,
     "metadata": {},
     "output_type": "execute_result"
    },
    {
     "data": {
      "image/png": "[encoded data removed]",
      "text/plain": [
       "<Figure size 1000x600 with 1 Axes>"
      ]
     },
     "metadata": {},
     "output_type": "display_data"
    }
   ],
   "source": [
    "df.plot(figsize=(10,6))"
   ]
  },
  {
   "cell_type": "code",
   "execution_count": 96,
   "metadata": {},
   "outputs": [
    {
     "data": {
      "text/html": [
       "<div>\n",
       "<style scoped>\n",
       "    .dataframe tbody tr th:only-of-type {\n",
       "        vertical-align: middle;\n",
       "    }\n",
       "\n",
       "    .dataframe tbody tr th {\n",
       "        vertical-align: top;\n",
       "    }\n",
       "\n",
       "    .dataframe thead th {\n",
       "        text-align: right;\n",
       "    }\n",
       "</style>\n",
       "<table border=\"1\" class=\"dataframe\">\n",
       "  <thead>\n",
       "    <tr style=\"text-align: right;\">\n",
       "      <th></th>\n",
       "      <th>Dateofbill</th>\n",
       "      <th>Quantity</th>\n",
       "      <th>Quantity_LastMonth</th>\n",
       "      <th>Quantity_2Monthsback</th>\n",
       "      <th>Quantity_3Monthsback</th>\n",
       "    </tr>\n",
       "  </thead>\n",
       "  <tbody>\n",
       "    <tr>\n",
       "      <th>0</th>\n",
       "      <td>Jan</td>\n",
       "      <td>1840</td>\n",
       "      <td>NaN</td>\n",
       "      <td>NaN</td>\n",
       "      <td>NaN</td>\n",
       "    </tr>\n",
       "    <tr>\n",
       "      <th>1</th>\n",
       "      <td>Feb</td>\n",
       "      <td>1539</td>\n",
       "      <td>1840.0</td>\n",
       "      <td>NaN</td>\n",
       "      <td>NaN</td>\n",
       "    </tr>\n",
       "    <tr>\n",
       "      <th>2</th>\n",
       "      <td>Mar</td>\n",
       "      <td>1948</td>\n",
       "      <td>1539.0</td>\n",
       "      <td>1840.0</td>\n",
       "      <td>NaN</td>\n",
       "    </tr>\n",
       "    <tr>\n",
       "      <th>3</th>\n",
       "      <td>Apr</td>\n",
       "      <td>1936</td>\n",
       "      <td>1948.0</td>\n",
       "      <td>1539.0</td>\n",
       "      <td>1840.0</td>\n",
       "    </tr>\n",
       "    <tr>\n",
       "      <th>4</th>\n",
       "      <td>May</td>\n",
       "      <td>1818</td>\n",
       "      <td>1936.0</td>\n",
       "      <td>1948.0</td>\n",
       "      <td>1539.0</td>\n",
       "    </tr>\n",
       "    <tr>\n",
       "      <th>5</th>\n",
       "      <td>Jun</td>\n",
       "      <td>1743</td>\n",
       "      <td>1818.0</td>\n",
       "      <td>1936.0</td>\n",
       "      <td>1948.0</td>\n",
       "    </tr>\n",
       "    <tr>\n",
       "      <th>6</th>\n",
       "      <td>Jul</td>\n",
       "      <td>2008</td>\n",
       "      <td>1743.0</td>\n",
       "      <td>1818.0</td>\n",
       "      <td>1936.0</td>\n",
       "    </tr>\n",
       "    <tr>\n",
       "      <th>7</th>\n",
       "      <td>Aug</td>\n",
       "      <td>2149</td>\n",
       "      <td>2008.0</td>\n",
       "      <td>1743.0</td>\n",
       "      <td>1818.0</td>\n",
       "    </tr>\n",
       "    <tr>\n",
       "      <th>8</th>\n",
       "      <td>Sep</td>\n",
       "      <td>1921</td>\n",
       "      <td>2149.0</td>\n",
       "      <td>2008.0</td>\n",
       "      <td>1743.0</td>\n",
       "    </tr>\n",
       "    <tr>\n",
       "      <th>9</th>\n",
       "      <td>Oct</td>\n",
       "      <td>1831</td>\n",
       "      <td>1921.0</td>\n",
       "      <td>2149.0</td>\n",
       "      <td>2008.0</td>\n",
       "    </tr>\n",
       "    <tr>\n",
       "      <th>10</th>\n",
       "      <td>Nov</td>\n",
       "      <td>2106</td>\n",
       "      <td>1831.0</td>\n",
       "      <td>1921.0</td>\n",
       "      <td>2149.0</td>\n",
       "    </tr>\n",
       "    <tr>\n",
       "      <th>11</th>\n",
       "      <td>Dec</td>\n",
       "      <td>2290</td>\n",
       "      <td>2106.0</td>\n",
       "      <td>1831.0</td>\n",
       "      <td>1921.0</td>\n",
       "    </tr>\n",
       "  </tbody>\n",
       "</table>\n",
       "</div>"
      ],
      "text/plain": [
       "   Dateofbill  Quantity  Quantity_LastMonth  Quantity_2Monthsback  \\\n",
       "0         Jan      1840                 NaN                   NaN   \n",
       "1         Feb      1539              1840.0                   NaN   \n",
       "2         Mar      1948              1539.0                1840.0   \n",
       "3         Apr      1936              1948.0                1539.0   \n",
       "4         May      1818              1936.0                1948.0   \n",
       "5         Jun      1743              1818.0                1936.0   \n",
       "6         Jul      2008              1743.0                1818.0   \n",
       "7         Aug      2149              2008.0                1743.0   \n",
       "8         Sep      1921              2149.0                2008.0   \n",
       "9         Oct      1831              1921.0                2149.0   \n",
       "10        Nov      2106              1831.0                1921.0   \n",
       "11        Dec      2290              2106.0                1831.0   \n",
       "\n",
       "    Quantity_3Monthsback  \n",
       "0                    NaN  \n",
       "1                    NaN  \n",
       "2                    NaN  \n",
       "3                 1840.0  \n",
       "4                 1539.0  \n",
       "5                 1948.0  \n",
       "6                 1936.0  \n",
       "7                 1818.0  \n",
       "8                 1743.0  \n",
       "9                 2008.0  \n",
       "10                2149.0  \n",
       "11                1921.0  "
      ]
     },
     "execution_count": 96,
     "metadata": {},
     "output_type": "execute_result"
    }
   ],
   "source": [
    "# Shifting\n",
    "df['Quantity_LastMonth']=df['Quantity'].shift(+1)\n",
    "df['Quantity_2Monthsback']=df['Quantity'].shift(+2)\n",
    "df['Quantity_3Monthsback']=df['Quantity'].shift(+3)\n",
    "df"
   ]
  },
  {
   "cell_type": "code",
   "execution_count": 97,
   "metadata": {},
   "outputs": [
    {
     "data": {
      "text/html": [
       "<div>\n",
       "<style scoped>\n",
       "    .dataframe tbody tr th:only-of-type {\n",
       "        vertical-align: middle;\n",
       "    }\n",
       "\n",
       "    .dataframe tbody tr th {\n",
       "        vertical-align: top;\n",
       "    }\n",
       "\n",
       "    .dataframe thead th {\n",
       "        text-align: right;\n",
       "    }\n",
       "</style>\n",
       "<table border=\"1\" class=\"dataframe\">\n",
       "  <thead>\n",
       "    <tr style=\"text-align: right;\">\n",
       "      <th></th>\n",
       "      <th>Dateofbill</th>\n",
       "      <th>Quantity</th>\n",
       "      <th>Quantity_LastMonth</th>\n",
       "      <th>Quantity_2Monthsback</th>\n",
       "      <th>Quantity_3Monthsback</th>\n",
       "    </tr>\n",
       "  </thead>\n",
       "  <tbody>\n",
       "    <tr>\n",
       "      <th>3</th>\n",
       "      <td>Apr</td>\n",
       "      <td>1936</td>\n",
       "      <td>1948.0</td>\n",
       "      <td>1539.0</td>\n",
       "      <td>1840.0</td>\n",
       "    </tr>\n",
       "    <tr>\n",
       "      <th>4</th>\n",
       "      <td>May</td>\n",
       "      <td>1818</td>\n",
       "      <td>1936.0</td>\n",
       "      <td>1948.0</td>\n",
       "      <td>1539.0</td>\n",
       "    </tr>\n",
       "    <tr>\n",
       "      <th>5</th>\n",
       "      <td>Jun</td>\n",
       "      <td>1743</td>\n",
       "      <td>1818.0</td>\n",
       "      <td>1936.0</td>\n",
       "      <td>1948.0</td>\n",
       "    </tr>\n",
       "    <tr>\n",
       "      <th>6</th>\n",
       "      <td>Jul</td>\n",
       "      <td>2008</td>\n",
       "      <td>1743.0</td>\n",
       "      <td>1818.0</td>\n",
       "      <td>1936.0</td>\n",
       "    </tr>\n",
       "    <tr>\n",
       "      <th>7</th>\n",
       "      <td>Aug</td>\n",
       "      <td>2149</td>\n",
       "      <td>2008.0</td>\n",
       "      <td>1743.0</td>\n",
       "      <td>1818.0</td>\n",
       "    </tr>\n",
       "    <tr>\n",
       "      <th>8</th>\n",
       "      <td>Sep</td>\n",
       "      <td>1921</td>\n",
       "      <td>2149.0</td>\n",
       "      <td>2008.0</td>\n",
       "      <td>1743.0</td>\n",
       "    </tr>\n",
       "    <tr>\n",
       "      <th>9</th>\n",
       "      <td>Oct</td>\n",
       "      <td>1831</td>\n",
       "      <td>1921.0</td>\n",
       "      <td>2149.0</td>\n",
       "      <td>2008.0</td>\n",
       "    </tr>\n",
       "    <tr>\n",
       "      <th>10</th>\n",
       "      <td>Nov</td>\n",
       "      <td>2106</td>\n",
       "      <td>1831.0</td>\n",
       "      <td>1921.0</td>\n",
       "      <td>2149.0</td>\n",
       "    </tr>\n",
       "    <tr>\n",
       "      <th>11</th>\n",
       "      <td>Dec</td>\n",
       "      <td>2290</td>\n",
       "      <td>2106.0</td>\n",
       "      <td>1831.0</td>\n",
       "      <td>1921.0</td>\n",
       "    </tr>\n",
       "  </tbody>\n",
       "</table>\n",
       "</div>"
      ],
      "text/plain": [
       "   Dateofbill  Quantity  Quantity_LastMonth  Quantity_2Monthsback  \\\n",
       "3         Apr      1936              1948.0                1539.0   \n",
       "4         May      1818              1936.0                1948.0   \n",
       "5         Jun      1743              1818.0                1936.0   \n",
       "6         Jul      2008              1743.0                1818.0   \n",
       "7         Aug      2149              2008.0                1743.0   \n",
       "8         Sep      1921              2149.0                2008.0   \n",
       "9         Oct      1831              1921.0                2149.0   \n",
       "10        Nov      2106              1831.0                1921.0   \n",
       "11        Dec      2290              2106.0                1831.0   \n",
       "\n",
       "    Quantity_3Monthsback  \n",
       "3                 1840.0  \n",
       "4                 1539.0  \n",
       "5                 1948.0  \n",
       "6                 1936.0  \n",
       "7                 1818.0  \n",
       "8                 1743.0  \n",
       "9                 2008.0  \n",
       "10                2149.0  \n",
       "11                1921.0  "
      ]
     },
     "execution_count": 97,
     "metadata": {},
     "output_type": "execute_result"
    }
   ],
   "source": [
    "# Dropping missing values\n",
    "df = df.dropna()\n",
    "df"
   ]
  },
  {
   "cell_type": "code",
   "execution_count": 98,
   "metadata": {},
   "outputs": [],
   "source": [
    "# Applying linear regression\n",
    "from sklearn.linear_model import LinearRegression\n",
    "lin_model=LinearRegression()"
   ]
  },
  {
   "cell_type": "code",
   "execution_count": 99,
   "metadata": {},
   "outputs": [],
   "source": [
    "# Applying random forest regressor\n",
    "from sklearn.ensemble import RandomForestRegressor\n",
    "model=RandomForestRegressor(n_estimators=100,max_features=3, random_state=1)"
   ]
  },
  {
   "cell_type": "code",
   "execution_count": 100,
   "metadata": {},
   "outputs": [
    {
     "name": "stdout",
     "output_type": "stream",
     "text": [
      "[[1948. 1539. 1840.]\n",
      " [1936. 1948. 1539.]\n",
      " [1818. 1936. 1948.]\n",
      " [1743. 1818. 1936.]\n",
      " [2008. 1743. 1818.]\n",
      " [2149. 2008. 1743.]\n",
      " [1921. 2149. 2008.]\n",
      " [1831. 1921. 2149.]\n",
      " [2106. 1831. 1921.]]\n"
     ]
    }
   ],
   "source": [
    "import numpy as np\n",
    "x1,x2,x3,y=df['Quantity_LastMonth'],df['Quantity_2Monthsback'],df['Quantity_3Monthsback'],df['Quantity']\n",
    "x1,x2,x3,y=np.array(x1),np.array(x2),np.array(x3),np.array(y)\n",
    "x1,x2,x3,y=x1.reshape(-1,1),x2.reshape(-1,1),x3.reshape(-1,1),y.reshape(-1,1)\n",
    "final_x=np.concatenate((x1,x2,x3),axis=1)\n",
    "print(final_x)"
   ]
  },
  {
   "cell_type": "code",
   "execution_count": 101,
   "metadata": {},
   "outputs": [],
   "source": [
    "# Splitting dataset\n",
    "X_train,X_test,y_train,y_test=final_x[:],final_x[-10:],y[:],y[-10:]"
   ]
  },
  {
   "cell_type": "code",
   "execution_count": 102,
   "metadata": {},
   "outputs": [
    {
     "data": {
      "text/html": [
       "<style>#sk-container-id-1 {color: black;background-color: white;}#sk-container-id-1 pre{padding: 0;}#sk-container-id-1 div.sk-toggleable {background-color: white;}#sk-container-id-1 label.sk-toggleable__label {cursor: pointer;display: block;width: 100%;margin-bottom: 0;padding: 0.3em;box-sizing: border-box;text-align: center;}#sk-container-id-1 label.sk-toggleable__label-arrow:before {content: \"▸\";float: left;margin-right: 0.25em;color: #696969;}#sk-container-id-1 label.sk-toggleable__label-arrow:hover:before {color: black;}#sk-container-id-1 div.sk-estimator:hover label.sk-toggleable__label-arrow:before {color: black;}#sk-container-id-1 div.sk-toggleable__content {max-height: 0;max-width: 0;overflow: hidden;text-align: left;background-color: #f0f8ff;}#sk-container-id-1 div.sk-toggleable__content pre {margin: 0.2em;color: black;border-radius: 0.25em;background-color: #f0f8ff;}#sk-container-id-1 input.sk-toggleable__control:checked~div.sk-toggleable__content {max-height: 200px;max-width: 100%;overflow: auto;}#sk-container-id-1 input.sk-toggleable__control:checked~label.sk-toggleable__label-arrow:before {content: \"▾\";}#sk-container-id-1 div.sk-estimator input.sk-toggleable__control:checked~label.sk-toggleable__label {background-color: #d4ebff;}#sk-container-id-1 div.sk-label input.sk-toggleable__control:checked~label.sk-toggleable__label {background-color: #d4ebff;}#sk-container-id-1 input.sk-hidden--visually {border: 0;clip: rect(1px 1px 1px 1px);clip: rect(1px, 1px, 1px, 1px);height: 1px;margin: -1px;overflow: hidden;padding: 0;position: absolute;width: 1px;}#sk-container-id-1 div.sk-estimator {font-family: monospace;background-color: #f0f8ff;border: 1px dotted black;border-radius: 0.25em;box-sizing: border-box;margin-bottom: 0.5em;}#sk-container-id-1 div.sk-estimator:hover {background-color: #d4ebff;}#sk-container-id-1 div.sk-parallel-item::after {content: \"\";width: 100%;border-bottom: 1px solid gray;flex-grow: 1;}#sk-container-id-1 div.sk-label:hover label.sk-toggleable__label {background-color: #d4ebff;}#sk-container-id-1 div.sk-serial::before {content: \"\";position: absolute;border-left: 1px solid gray;box-sizing: border-box;top: 0;bottom: 0;left: 50%;z-index: 0;}#sk-container-id-1 div.sk-serial {display: flex;flex-direction: column;align-items: center;background-color: white;padding-right: 0.2em;padding-left: 0.2em;position: relative;}#sk-container-id-1 div.sk-item {position: relative;z-index: 1;}#sk-container-id-1 div.sk-parallel {display: flex;align-items: stretch;justify-content: center;background-color: white;position: relative;}#sk-container-id-1 div.sk-item::before, #sk-container-id-1 div.sk-parallel-item::before {content: \"\";position: absolute;border-left: 1px solid gray;box-sizing: border-box;top: 0;bottom: 0;left: 50%;z-index: -1;}#sk-container-id-1 div.sk-parallel-item {display: flex;flex-direction: column;z-index: 1;position: relative;background-color: white;}#sk-container-id-1 div.sk-parallel-item:first-child::after {align-self: flex-end;width: 50%;}#sk-container-id-1 div.sk-parallel-item:last-child::after {align-self: flex-start;width: 50%;}#sk-container-id-1 div.sk-parallel-item:only-child::after {width: 0;}#sk-container-id-1 div.sk-dashed-wrapped {border: 1px dashed gray;margin: 0 0.4em 0.5em 0.4em;box-sizing: border-box;padding-bottom: 0.4em;background-color: white;}#sk-container-id-1 div.sk-label label {font-family: monospace;font-weight: bold;display: inline-block;line-height: 1.2em;}#sk-container-id-1 div.sk-label-container {text-align: center;}#sk-container-id-1 div.sk-container {/* jupyter's `normalize.less` sets `[hidden] { display: none; }` but bootstrap.min.css set `[hidden] { display: none !important; }` so we also need the `!important` here to be able to override the default hidden behavior on the sphinx rendered scikit-learn.org. See: https://github.com/scikit-learn/scikit-learn/issues/21755 */display: inline-block !important;position: relative;}#sk-container-id-1 div.sk-text-repr-fallback {display: none;}</style><div id=\"sk-container-id-1\" class=\"sk-top-container\"><div class=\"sk-text-repr-fallback\"><pre>LinearRegression()</pre><b>In a Jupyter environment, please rerun this cell to show the HTML representation or trust the notebook. <br />On GitHub, the HTML representation is unable to render, please try loading this page with nbviewer.org.</b></div><div class=\"sk-container\" hidden><div class=\"sk-item\"><div class=\"sk-estimator sk-toggleable\"><input class=\"sk-toggleable__control sk-hidden--visually\" id=\"sk-estimator-id-1\" type=\"checkbox\" checked><label for=\"sk-estimator-id-1\" class=\"sk-toggleable__label sk-toggleable__label-arrow\">LinearRegression</label><div class=\"sk-toggleable__content\"><pre>LinearRegression()</pre></div></div></div></div></div>"
      ],
      "text/plain": [
       "LinearRegression()"
      ]
     },
     "execution_count": 102,
     "metadata": {},
     "output_type": "execute_result"
    }
   ],
   "source": [
    "# Model fitting\n",
    "model.fit(X_train,y_train)\n",
    "lin_model.fit(X_train,y_train)"
   ]
  },
  {
   "cell_type": "markdown",
   "metadata": {},
   "source": [
    "## Random Forest Regression"
   ]
  },
  {
   "cell_type": "code",
   "execution_count": 103,
   "metadata": {},
   "outputs": [
    {
     "data": {
      "image/png": "[encoded data removed]",
      "text/plain": [
       "<Figure size 1000x500 with 1 Axes>"
      ]
     },
     "metadata": {},
     "output_type": "display_data"
    }
   ],
   "source": [
    "# Plotting curve\n",
    "pred = model.predict(X_test)\n",
    "plt.rcParams[\"figure.figsize\"] = (10, 5)\n",
    "plt.plot(pred, label='Random_Forest_Predictions')\n",
    "plt.plot(y_test, label='Actual Quantity')\n",
    "plt.legend(loc=\"upper left\")\n",
    "plt.show()"
   ]
  },
  {
   "cell_type": "code",
   "execution_count": null,
   "metadata": {},
   "outputs": [
    {
     "data": {
      "image/png": "[encoded data removed]",
      "text/plain": [
       "<Figure size 1000x500 with 1 Axes>"
      ]
     },
     "metadata": {},
     "output_type": "display_data"
    }
   ],
   "source": [
    "lin_pred=lin_model.predict(X_test)\n",
    "plt.rcParams[\"figure.figsize\"] = (10,5)\n",
    "plt.plot(lin_pred, label='Linear_Regression_Predictions')\n",
    "plt.plot(y_test,label='Actual Quantity')\n",
    "plt.legend(loc=\"upper left\")\n",
    "plt.show()"
   ]
  },
  {
   "cell_type": "code",
   "execution_count": 105,
   "metadata": {},
   "outputs": [],
   "source": [
    "# Calculating rmse\n",
    "rmse_rf=sqrt(mean_squared_error(pred,y_test))\n",
    "rmse_lr=sqrt(mean_squared_error(lin_pred,y_test))"
   ]
  },
  {
   "cell_type": "code",
   "execution_count": 106,
   "metadata": {},
   "outputs": [
    {
     "name": "stdout",
     "output_type": "stream",
     "text": [
      "Mean Squared Error for Random Forest Model is: 63.67562362823348\n",
      "Mean Squared Error for Linear Regression Model is: 116.86991364583447\n"
     ]
    }
   ],
   "source": [
    "# Printing rmse values\n",
    "print('Mean Squared Error for Random Forest Model is:',rmse_rf)\n",
    "print('Mean Squared Error for Linear Regression Model is:',rmse_lr)"
   ]
  }
 ],
 "metadata": {
  "kernelspec": {
   "display_name": "Python 3 (ipykernel)",
   "language": "python",
   "name": "python3"
  },
  "language_info": {
   "codemirror_mode": {
    "name": "ipython",
    "version": 3
   },
   "file_extension": ".py",
   "mimetype": "text/x-python",
   "name": "python",
   "nbconvert_exporter": "python",
   "pygments_lexer": "ipython3",
   "version": "3.11.3"
  }
 },
 "nbformat": 4,
 "nbformat_minor": 2
}
